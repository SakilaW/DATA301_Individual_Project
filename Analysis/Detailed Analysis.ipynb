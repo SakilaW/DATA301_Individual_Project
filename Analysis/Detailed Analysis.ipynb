{
 "cells": [
  {
   "cell_type": "markdown",
   "metadata": {},
   "source": [
    "## Detailed Analysis\n",
    "### GAIA Star Cluster Member Classification    \n",
    "#### DATA 301, 2023"
   ]
  },
  {
   "cell_type": "markdown",
   "metadata": {},
   "source": [
    "**Sakila Wanigasinghe [300526406]**"
   ]
  },
  {
   "cell_type": "markdown",
   "metadata": {},
   "source": [
    "***"
   ]
  },
  {
   "cell_type": "code",
   "execution_count": 1,
   "metadata": {},
   "outputs": [],
   "source": [
    "import numpy as np \n",
    "import pandas as pd\n",
    "import matplotlib.pyplot as plt \n",
    "import seaborn as sns\n",
    "from sklearn.impute import SimpleImputer\n",
    "from sklearn.preprocessing import StandardScaler\n",
    "from sklearn.compose import ColumnTransformer\n",
    "from xgboost import XGBClassifier, plot_importance\n",
    "from imblearn.pipeline import Pipeline\n",
    "from imblearn.over_sampling import SMOTE\n",
    "from imblearn.under_sampling import RandomUnderSampler\n",
    "from sklearn.model_selection import train_test_split, RepeatedStratifiedKFold, StratifiedKFold, cross_val_score, GridSearchCV\n",
    "from sklearn.dummy import DummyClassifier\n",
    "from sklearn.metrics import roc_auc_score, roc_curve, auc, precision_recall_curve, precision_score, balanced_accuracy_score, recall_score, f1_score, plot_roc_curve\n",
    "from sklearn.preprocessing import LabelEncoder"
   ]
  },
  {
   "cell_type": "markdown",
   "metadata": {},
   "source": [
    "<br>"
   ]
  },
  {
   "cell_type": "markdown",
   "metadata": {},
   "source": [
    "**Loading in data for star clusters: *NGC 7789*, and *Trumpler 5***"
   ]
  },
  {
   "cell_type": "code",
   "execution_count": 2,
   "metadata": {},
   "outputs": [
    {
     "data": {
      "text/plain": [
       "(3575, 13)"
      ]
     },
     "execution_count": 2,
     "metadata": {},
     "output_type": "execute_result"
    }
   ],
   "source": [
    "## Loading in NGC 7789 star cluster data\n",
    "ngc_7789 = pd.read_csv('../Data/ngc_7789.csv')\n",
    "ngc_7789.shape"
   ]
  },
  {
   "cell_type": "code",
   "execution_count": 3,
   "metadata": {},
   "outputs": [
    {
     "data": {
      "text/html": [
       "<div>\n",
       "<style scoped>\n",
       "    .dataframe tbody tr th:only-of-type {\n",
       "        vertical-align: middle;\n",
       "    }\n",
       "\n",
       "    .dataframe tbody tr th {\n",
       "        vertical-align: top;\n",
       "    }\n",
       "\n",
       "    .dataframe thead th {\n",
       "        text-align: right;\n",
       "    }\n",
       "</style>\n",
       "<table border=\"1\" class=\"dataframe\">\n",
       "  <thead>\n",
       "    <tr style=\"text-align: right;\">\n",
       "      <th></th>\n",
       "      <th>source_id</th>\n",
       "      <th>ra</th>\n",
       "      <th>dec</th>\n",
       "      <th>parallax</th>\n",
       "      <th>pmra</th>\n",
       "      <th>pmdec</th>\n",
       "      <th>phot_g_mean_mag</th>\n",
       "      <th>phot_bp_mean_mag</th>\n",
       "      <th>phot_rp_mean_mag</th>\n",
       "      <th>bp_rp</th>\n",
       "      <th>radial_velocity</th>\n",
       "      <th>teff_gspphot</th>\n",
       "      <th>Cluster</th>\n",
       "    </tr>\n",
       "  </thead>\n",
       "  <tbody>\n",
       "    <tr>\n",
       "      <th>0</th>\n",
       "      <td>420901507912889088</td>\n",
       "      <td>0.082375</td>\n",
       "      <td>56.014056</td>\n",
       "      <td>0.320644</td>\n",
       "      <td>-0.386428</td>\n",
       "      <td>-1.528307</td>\n",
       "      <td>16.820808</td>\n",
       "      <td>17.286600</td>\n",
       "      <td>16.184370</td>\n",
       "      <td>1.102230</td>\n",
       "      <td>NaN</td>\n",
       "      <td>5409.3820</td>\n",
       "      <td>Other</td>\n",
       "    </tr>\n",
       "    <tr>\n",
       "      <th>1</th>\n",
       "      <td>420906936751548288</td>\n",
       "      <td>0.237080</td>\n",
       "      <td>56.055887</td>\n",
       "      <td>0.597838</td>\n",
       "      <td>-1.651632</td>\n",
       "      <td>-2.148538</td>\n",
       "      <td>17.591908</td>\n",
       "      <td>18.355732</td>\n",
       "      <td>16.755722</td>\n",
       "      <td>1.600010</td>\n",
       "      <td>NaN</td>\n",
       "      <td>4343.0300</td>\n",
       "      <td>Other</td>\n",
       "    </tr>\n",
       "    <tr>\n",
       "      <th>2</th>\n",
       "      <td>420907142909967104</td>\n",
       "      <td>0.149607</td>\n",
       "      <td>56.061129</td>\n",
       "      <td>0.211846</td>\n",
       "      <td>-1.312115</td>\n",
       "      <td>-2.421624</td>\n",
       "      <td>15.102909</td>\n",
       "      <td>15.690556</td>\n",
       "      <td>14.344952</td>\n",
       "      <td>1.345604</td>\n",
       "      <td>NaN</td>\n",
       "      <td>5978.2773</td>\n",
       "      <td>Other</td>\n",
       "    </tr>\n",
       "    <tr>\n",
       "      <th>3</th>\n",
       "      <td>420907722722130816</td>\n",
       "      <td>0.003523</td>\n",
       "      <td>56.075048</td>\n",
       "      <td>0.342945</td>\n",
       "      <td>-1.708469</td>\n",
       "      <td>-2.459792</td>\n",
       "      <td>16.090326</td>\n",
       "      <td>16.448742</td>\n",
       "      <td>15.559808</td>\n",
       "      <td>0.888934</td>\n",
       "      <td>NaN</td>\n",
       "      <td>6960.6714</td>\n",
       "      <td>Other</td>\n",
       "    </tr>\n",
       "    <tr>\n",
       "      <th>4</th>\n",
       "      <td>420908414210912512</td>\n",
       "      <td>0.013300</td>\n",
       "      <td>56.152271</td>\n",
       "      <td>0.560820</td>\n",
       "      <td>-1.245880</td>\n",
       "      <td>-2.100259</td>\n",
       "      <td>16.771912</td>\n",
       "      <td>NaN</td>\n",
       "      <td>NaN</td>\n",
       "      <td>NaN</td>\n",
       "      <td>NaN</td>\n",
       "      <td>NaN</td>\n",
       "      <td>Other</td>\n",
       "    </tr>\n",
       "  </tbody>\n",
       "</table>\n",
       "</div>"
      ],
      "text/plain": [
       "            source_id        ra        dec  parallax      pmra     pmdec  \\\n",
       "0  420901507912889088  0.082375  56.014056  0.320644 -0.386428 -1.528307   \n",
       "1  420906936751548288  0.237080  56.055887  0.597838 -1.651632 -2.148538   \n",
       "2  420907142909967104  0.149607  56.061129  0.211846 -1.312115 -2.421624   \n",
       "3  420907722722130816  0.003523  56.075048  0.342945 -1.708469 -2.459792   \n",
       "4  420908414210912512  0.013300  56.152271  0.560820 -1.245880 -2.100259   \n",
       "\n",
       "   phot_g_mean_mag  phot_bp_mean_mag  phot_rp_mean_mag     bp_rp  \\\n",
       "0        16.820808         17.286600         16.184370  1.102230   \n",
       "1        17.591908         18.355732         16.755722  1.600010   \n",
       "2        15.102909         15.690556         14.344952  1.345604   \n",
       "3        16.090326         16.448742         15.559808  0.888934   \n",
       "4        16.771912               NaN               NaN       NaN   \n",
       "\n",
       "   radial_velocity  teff_gspphot Cluster  \n",
       "0              NaN     5409.3820   Other  \n",
       "1              NaN     4343.0300   Other  \n",
       "2              NaN     5978.2773   Other  \n",
       "3              NaN     6960.6714   Other  \n",
       "4              NaN           NaN   Other  "
      ]
     },
     "execution_count": 3,
     "metadata": {},
     "output_type": "execute_result"
    }
   ],
   "source": [
    "ngc_7789.head()"
   ]
  },
  {
   "cell_type": "code",
   "execution_count": 4,
   "metadata": {},
   "outputs": [
    {
     "data": {
      "text/plain": [
       "(3302, 13)"
      ]
     },
     "execution_count": 4,
     "metadata": {},
     "output_type": "execute_result"
    }
   ],
   "source": [
    "## Loading in Trumpler 5 star cluster data\n",
    "trumpler_5 = pd.read_csv('../Data/trumpler_5.csv')\n",
    "trumpler_5.shape"
   ]
  },
  {
   "cell_type": "code",
   "execution_count": 5,
   "metadata": {},
   "outputs": [
    {
     "data": {
      "text/html": [
       "<div>\n",
       "<style scoped>\n",
       "    .dataframe tbody tr th:only-of-type {\n",
       "        vertical-align: middle;\n",
       "    }\n",
       "\n",
       "    .dataframe tbody tr th {\n",
       "        vertical-align: top;\n",
       "    }\n",
       "\n",
       "    .dataframe thead th {\n",
       "        text-align: right;\n",
       "    }\n",
       "</style>\n",
       "<table border=\"1\" class=\"dataframe\">\n",
       "  <thead>\n",
       "    <tr style=\"text-align: right;\">\n",
       "      <th></th>\n",
       "      <th>source_id</th>\n",
       "      <th>ra</th>\n",
       "      <th>dec</th>\n",
       "      <th>parallax</th>\n",
       "      <th>pmra</th>\n",
       "      <th>pmdec</th>\n",
       "      <th>phot_g_mean_mag</th>\n",
       "      <th>phot_bp_mean_mag</th>\n",
       "      <th>phot_rp_mean_mag</th>\n",
       "      <th>bp_rp</th>\n",
       "      <th>radial_velocity</th>\n",
       "      <th>teff_gspphot</th>\n",
       "      <th>Cluster</th>\n",
       "    </tr>\n",
       "  </thead>\n",
       "  <tbody>\n",
       "    <tr>\n",
       "      <th>0</th>\n",
       "      <td>3326188665921045120</td>\n",
       "      <td>99.180263</td>\n",
       "      <td>8.938090</td>\n",
       "      <td>0.117289</td>\n",
       "      <td>-0.767038</td>\n",
       "      <td>0.202383</td>\n",
       "      <td>17.720343</td>\n",
       "      <td>18.314255</td>\n",
       "      <td>16.970951</td>\n",
       "      <td>1.343304</td>\n",
       "      <td>NaN</td>\n",
       "      <td>5201.7600</td>\n",
       "      <td>Other</td>\n",
       "    </tr>\n",
       "    <tr>\n",
       "      <th>1</th>\n",
       "      <td>3326188940798945920</td>\n",
       "      <td>99.123816</td>\n",
       "      <td>8.924983</td>\n",
       "      <td>-0.052569</td>\n",
       "      <td>0.351594</td>\n",
       "      <td>-0.838942</td>\n",
       "      <td>17.792180</td>\n",
       "      <td>18.782574</td>\n",
       "      <td>16.812962</td>\n",
       "      <td>1.969612</td>\n",
       "      <td>NaN</td>\n",
       "      <td>4615.8970</td>\n",
       "      <td>Other</td>\n",
       "    </tr>\n",
       "    <tr>\n",
       "      <th>2</th>\n",
       "      <td>3326189391771063424</td>\n",
       "      <td>99.161032</td>\n",
       "      <td>8.937259</td>\n",
       "      <td>0.354193</td>\n",
       "      <td>-0.229926</td>\n",
       "      <td>-0.055456</td>\n",
       "      <td>16.855852</td>\n",
       "      <td>17.416264</td>\n",
       "      <td>16.147139</td>\n",
       "      <td>1.269125</td>\n",
       "      <td>NaN</td>\n",
       "      <td>5466.8804</td>\n",
       "      <td>Other</td>\n",
       "    </tr>\n",
       "    <tr>\n",
       "      <th>3</th>\n",
       "      <td>3326189421835294080</td>\n",
       "      <td>99.175908</td>\n",
       "      <td>8.955257</td>\n",
       "      <td>0.423364</td>\n",
       "      <td>0.278428</td>\n",
       "      <td>-0.069258</td>\n",
       "      <td>17.581598</td>\n",
       "      <td>18.265062</td>\n",
       "      <td>16.802801</td>\n",
       "      <td>1.462261</td>\n",
       "      <td>NaN</td>\n",
       "      <td>5164.1900</td>\n",
       "      <td>Other</td>\n",
       "    </tr>\n",
       "    <tr>\n",
       "      <th>4</th>\n",
       "      <td>3326189593633986432</td>\n",
       "      <td>99.104969</td>\n",
       "      <td>8.958145</td>\n",
       "      <td>0.333585</td>\n",
       "      <td>-0.597968</td>\n",
       "      <td>-0.295040</td>\n",
       "      <td>17.811178</td>\n",
       "      <td>18.439910</td>\n",
       "      <td>17.031984</td>\n",
       "      <td>1.407927</td>\n",
       "      <td>NaN</td>\n",
       "      <td>4466.0156</td>\n",
       "      <td>Other</td>\n",
       "    </tr>\n",
       "  </tbody>\n",
       "</table>\n",
       "</div>"
      ],
      "text/plain": [
       "             source_id         ra       dec  parallax      pmra     pmdec  \\\n",
       "0  3326188665921045120  99.180263  8.938090  0.117289 -0.767038  0.202383   \n",
       "1  3326188940798945920  99.123816  8.924983 -0.052569  0.351594 -0.838942   \n",
       "2  3326189391771063424  99.161032  8.937259  0.354193 -0.229926 -0.055456   \n",
       "3  3326189421835294080  99.175908  8.955257  0.423364  0.278428 -0.069258   \n",
       "4  3326189593633986432  99.104969  8.958145  0.333585 -0.597968 -0.295040   \n",
       "\n",
       "   phot_g_mean_mag  phot_bp_mean_mag  phot_rp_mean_mag     bp_rp  \\\n",
       "0        17.720343         18.314255         16.970951  1.343304   \n",
       "1        17.792180         18.782574         16.812962  1.969612   \n",
       "2        16.855852         17.416264         16.147139  1.269125   \n",
       "3        17.581598         18.265062         16.802801  1.462261   \n",
       "4        17.811178         18.439910         17.031984  1.407927   \n",
       "\n",
       "   radial_velocity  teff_gspphot Cluster  \n",
       "0              NaN     5201.7600   Other  \n",
       "1              NaN     4615.8970   Other  \n",
       "2              NaN     5466.8804   Other  \n",
       "3              NaN     5164.1900   Other  \n",
       "4              NaN     4466.0156   Other  "
      ]
     },
     "execution_count": 5,
     "metadata": {},
     "output_type": "execute_result"
    }
   ],
   "source": [
    "trumpler_5.head()"
   ]
  },
  {
   "cell_type": "markdown",
   "metadata": {},
   "source": [
    "<br>"
   ]
  },
  {
   "cell_type": "markdown",
   "metadata": {},
   "source": [
    "### NGC 7789 Star Cluster Members Classification"
   ]
  },
  {
   "cell_type": "markdown",
   "metadata": {},
   "source": [
    "**Creating train, validation, and test sets**"
   ]
  },
  {
   "cell_type": "code",
   "execution_count": 6,
   "metadata": {},
   "outputs": [],
   "source": [
    "ngc_7789_filtered = ngc_7789.copy()"
   ]
  },
  {
   "cell_type": "code",
   "execution_count": 62,
   "metadata": {},
   "outputs": [
    {
     "data": {
      "text/html": [
       "<div>\n",
       "<style scoped>\n",
       "    .dataframe tbody tr th:only-of-type {\n",
       "        vertical-align: middle;\n",
       "    }\n",
       "\n",
       "    .dataframe tbody tr th {\n",
       "        vertical-align: top;\n",
       "    }\n",
       "\n",
       "    .dataframe thead th {\n",
       "        text-align: right;\n",
       "    }\n",
       "</style>\n",
       "<table border=\"1\" class=\"dataframe\">\n",
       "  <thead>\n",
       "    <tr style=\"text-align: right;\">\n",
       "      <th></th>\n",
       "      <th>source_id</th>\n",
       "      <th>ra</th>\n",
       "      <th>dec</th>\n",
       "      <th>parallax</th>\n",
       "      <th>pmra</th>\n",
       "      <th>pmdec</th>\n",
       "      <th>phot_g_mean_mag</th>\n",
       "      <th>phot_bp_mean_mag</th>\n",
       "      <th>phot_rp_mean_mag</th>\n",
       "      <th>bp_rp</th>\n",
       "      <th>radial_velocity</th>\n",
       "      <th>teff_gspphot</th>\n",
       "      <th>Cluster</th>\n",
       "    </tr>\n",
       "  </thead>\n",
       "  <tbody>\n",
       "    <tr>\n",
       "      <th>0</th>\n",
       "      <td>420901507912889088</td>\n",
       "      <td>0.082375</td>\n",
       "      <td>56.014056</td>\n",
       "      <td>0.320644</td>\n",
       "      <td>-0.386428</td>\n",
       "      <td>-1.528307</td>\n",
       "      <td>16.820808</td>\n",
       "      <td>17.286600</td>\n",
       "      <td>16.184370</td>\n",
       "      <td>1.102230</td>\n",
       "      <td>NaN</td>\n",
       "      <td>5409.3820</td>\n",
       "      <td>Other</td>\n",
       "    </tr>\n",
       "    <tr>\n",
       "      <th>1</th>\n",
       "      <td>420906936751548288</td>\n",
       "      <td>0.237080</td>\n",
       "      <td>56.055887</td>\n",
       "      <td>0.597838</td>\n",
       "      <td>-1.651632</td>\n",
       "      <td>-2.148538</td>\n",
       "      <td>17.591908</td>\n",
       "      <td>18.355732</td>\n",
       "      <td>16.755722</td>\n",
       "      <td>1.600010</td>\n",
       "      <td>NaN</td>\n",
       "      <td>4343.0300</td>\n",
       "      <td>Other</td>\n",
       "    </tr>\n",
       "    <tr>\n",
       "      <th>2</th>\n",
       "      <td>420907142909967104</td>\n",
       "      <td>0.149607</td>\n",
       "      <td>56.061129</td>\n",
       "      <td>0.211846</td>\n",
       "      <td>-1.312115</td>\n",
       "      <td>-2.421624</td>\n",
       "      <td>15.102909</td>\n",
       "      <td>15.690556</td>\n",
       "      <td>14.344952</td>\n",
       "      <td>1.345604</td>\n",
       "      <td>NaN</td>\n",
       "      <td>5978.2773</td>\n",
       "      <td>Other</td>\n",
       "    </tr>\n",
       "    <tr>\n",
       "      <th>3</th>\n",
       "      <td>420907722722130816</td>\n",
       "      <td>0.003523</td>\n",
       "      <td>56.075048</td>\n",
       "      <td>0.342945</td>\n",
       "      <td>-1.708469</td>\n",
       "      <td>-2.459792</td>\n",
       "      <td>16.090326</td>\n",
       "      <td>16.448742</td>\n",
       "      <td>15.559808</td>\n",
       "      <td>0.888934</td>\n",
       "      <td>NaN</td>\n",
       "      <td>6960.6714</td>\n",
       "      <td>Other</td>\n",
       "    </tr>\n",
       "    <tr>\n",
       "      <th>4</th>\n",
       "      <td>420908414210912512</td>\n",
       "      <td>0.013300</td>\n",
       "      <td>56.152271</td>\n",
       "      <td>0.560820</td>\n",
       "      <td>-1.245880</td>\n",
       "      <td>-2.100259</td>\n",
       "      <td>16.771912</td>\n",
       "      <td>NaN</td>\n",
       "      <td>NaN</td>\n",
       "      <td>NaN</td>\n",
       "      <td>NaN</td>\n",
       "      <td>NaN</td>\n",
       "      <td>Other</td>\n",
       "    </tr>\n",
       "    <tr>\n",
       "      <th>...</th>\n",
       "      <td>...</td>\n",
       "      <td>...</td>\n",
       "      <td>...</td>\n",
       "      <td>...</td>\n",
       "      <td>...</td>\n",
       "      <td>...</td>\n",
       "      <td>...</td>\n",
       "      <td>...</td>\n",
       "      <td>...</td>\n",
       "      <td>...</td>\n",
       "      <td>...</td>\n",
       "      <td>...</td>\n",
       "      <td>...</td>\n",
       "    </tr>\n",
       "    <tr>\n",
       "      <th>259</th>\n",
       "      <td>422583034844602112</td>\n",
       "      <td>0.355194</td>\n",
       "      <td>57.279634</td>\n",
       "      <td>0.412508</td>\n",
       "      <td>-0.631639</td>\n",
       "      <td>-2.461907</td>\n",
       "      <td>17.302150</td>\n",
       "      <td>17.849550</td>\n",
       "      <td>16.550047</td>\n",
       "      <td>1.299503</td>\n",
       "      <td>NaN</td>\n",
       "      <td>5124.4320</td>\n",
       "      <td>Other</td>\n",
       "    </tr>\n",
       "    <tr>\n",
       "      <th>260</th>\n",
       "      <td>422583657623854720</td>\n",
       "      <td>0.347800</td>\n",
       "      <td>57.330223</td>\n",
       "      <td>0.355430</td>\n",
       "      <td>-1.006360</td>\n",
       "      <td>-1.968413</td>\n",
       "      <td>16.235216</td>\n",
       "      <td>16.875200</td>\n",
       "      <td>15.459732</td>\n",
       "      <td>1.415468</td>\n",
       "      <td>NaN</td>\n",
       "      <td>6661.4546</td>\n",
       "      <td>NGC_7789</td>\n",
       "    </tr>\n",
       "    <tr>\n",
       "      <th>261</th>\n",
       "      <td>422583863782273536</td>\n",
       "      <td>0.304497</td>\n",
       "      <td>57.351383</td>\n",
       "      <td>0.548345</td>\n",
       "      <td>-0.603432</td>\n",
       "      <td>-1.447743</td>\n",
       "      <td>16.439352</td>\n",
       "      <td>17.027962</td>\n",
       "      <td>15.703833</td>\n",
       "      <td>1.324129</td>\n",
       "      <td>NaN</td>\n",
       "      <td>5350.5430</td>\n",
       "      <td>Other</td>\n",
       "    </tr>\n",
       "    <tr>\n",
       "      <th>262</th>\n",
       "      <td>422587437195037312</td>\n",
       "      <td>0.126471</td>\n",
       "      <td>57.370982</td>\n",
       "      <td>0.442180</td>\n",
       "      <td>-0.529464</td>\n",
       "      <td>-1.374898</td>\n",
       "      <td>16.746067</td>\n",
       "      <td>17.501043</td>\n",
       "      <td>15.895293</td>\n",
       "      <td>1.605750</td>\n",
       "      <td>NaN</td>\n",
       "      <td>5229.0825</td>\n",
       "      <td>Other</td>\n",
       "    </tr>\n",
       "    <tr>\n",
       "      <th>263</th>\n",
       "      <td>422587982647676288</td>\n",
       "      <td>0.099737</td>\n",
       "      <td>57.425991</td>\n",
       "      <td>0.127012</td>\n",
       "      <td>-1.322575</td>\n",
       "      <td>-2.276120</td>\n",
       "      <td>16.991764</td>\n",
       "      <td>16.937950</td>\n",
       "      <td>15.332372</td>\n",
       "      <td>1.605578</td>\n",
       "      <td>NaN</td>\n",
       "      <td>NaN</td>\n",
       "      <td>Other</td>\n",
       "    </tr>\n",
       "  </tbody>\n",
       "</table>\n",
       "<p>264 rows × 13 columns</p>\n",
       "</div>"
      ],
      "text/plain": [
       "              source_id        ra        dec  parallax      pmra     pmdec  \\\n",
       "0    420901507912889088  0.082375  56.014056  0.320644 -0.386428 -1.528307   \n",
       "1    420906936751548288  0.237080  56.055887  0.597838 -1.651632 -2.148538   \n",
       "2    420907142909967104  0.149607  56.061129  0.211846 -1.312115 -2.421624   \n",
       "3    420907722722130816  0.003523  56.075048  0.342945 -1.708469 -2.459792   \n",
       "4    420908414210912512  0.013300  56.152271  0.560820 -1.245880 -2.100259   \n",
       "..                  ...       ...        ...       ...       ...       ...   \n",
       "259  422583034844602112  0.355194  57.279634  0.412508 -0.631639 -2.461907   \n",
       "260  422583657623854720  0.347800  57.330223  0.355430 -1.006360 -1.968413   \n",
       "261  422583863782273536  0.304497  57.351383  0.548345 -0.603432 -1.447743   \n",
       "262  422587437195037312  0.126471  57.370982  0.442180 -0.529464 -1.374898   \n",
       "263  422587982647676288  0.099737  57.425991  0.127012 -1.322575 -2.276120   \n",
       "\n",
       "     phot_g_mean_mag  phot_bp_mean_mag  phot_rp_mean_mag     bp_rp  \\\n",
       "0          16.820808         17.286600         16.184370  1.102230   \n",
       "1          17.591908         18.355732         16.755722  1.600010   \n",
       "2          15.102909         15.690556         14.344952  1.345604   \n",
       "3          16.090326         16.448742         15.559808  0.888934   \n",
       "4          16.771912               NaN               NaN       NaN   \n",
       "..               ...               ...               ...       ...   \n",
       "259        17.302150         17.849550         16.550047  1.299503   \n",
       "260        16.235216         16.875200         15.459732  1.415468   \n",
       "261        16.439352         17.027962         15.703833  1.324129   \n",
       "262        16.746067         17.501043         15.895293  1.605750   \n",
       "263        16.991764         16.937950         15.332372  1.605578   \n",
       "\n",
       "     radial_velocity  teff_gspphot   Cluster  \n",
       "0                NaN     5409.3820     Other  \n",
       "1                NaN     4343.0300     Other  \n",
       "2                NaN     5978.2773     Other  \n",
       "3                NaN     6960.6714     Other  \n",
       "4                NaN           NaN     Other  \n",
       "..               ...           ...       ...  \n",
       "259              NaN     5124.4320     Other  \n",
       "260              NaN     6661.4546  NGC_7789  \n",
       "261              NaN     5350.5430     Other  \n",
       "262              NaN     5229.0825     Other  \n",
       "263              NaN           NaN     Other  \n",
       "\n",
       "[264 rows x 13 columns]"
      ]
     },
     "execution_count": 62,
     "metadata": {},
     "output_type": "execute_result"
    }
   ],
   "source": [
    "ngc_7789[ngc_7789['ra'] < 350] "
   ]
  },
  {
   "cell_type": "code",
   "execution_count": 7,
   "metadata": {},
   "outputs": [
    {
     "data": {
      "text/plain": [
       "(3311, 11)"
      ]
     },
     "execution_count": 7,
     "metadata": {},
     "output_type": "execute_result"
    }
   ],
   "source": [
    "## Removing redundant column 'source_id' and 'radial_velocity'\n",
    "ngc_7789_filtered = ngc_7789[ngc_7789['ra'] > 350]\n",
    "ngc_7789_filtered = ngc_7789_filtered.drop(['radial_velocity', 'source_id'], axis = 1)\n",
    "ngc_7789_filtered.shape"
   ]
  },
  {
   "cell_type": "code",
   "execution_count": 8,
   "metadata": {},
   "outputs": [
    {
     "data": {
      "text/html": [
       "<div>\n",
       "<style scoped>\n",
       "    .dataframe tbody tr th:only-of-type {\n",
       "        vertical-align: middle;\n",
       "    }\n",
       "\n",
       "    .dataframe tbody tr th {\n",
       "        vertical-align: top;\n",
       "    }\n",
       "\n",
       "    .dataframe thead th {\n",
       "        text-align: right;\n",
       "    }\n",
       "</style>\n",
       "<table border=\"1\" class=\"dataframe\">\n",
       "  <thead>\n",
       "    <tr style=\"text-align: right;\">\n",
       "      <th></th>\n",
       "      <th>ra</th>\n",
       "      <th>dec</th>\n",
       "      <th>parallax</th>\n",
       "      <th>pmra</th>\n",
       "      <th>pmdec</th>\n",
       "      <th>phot_g_mean_mag</th>\n",
       "      <th>phot_bp_mean_mag</th>\n",
       "      <th>phot_rp_mean_mag</th>\n",
       "      <th>bp_rp</th>\n",
       "      <th>teff_gspphot</th>\n",
       "      <th>Cluster</th>\n",
       "    </tr>\n",
       "  </thead>\n",
       "  <tbody>\n",
       "    <tr>\n",
       "      <th>264</th>\n",
       "      <td>359.973766</td>\n",
       "      <td>55.980510</td>\n",
       "      <td>0.345684</td>\n",
       "      <td>-1.264863</td>\n",
       "      <td>-2.185392</td>\n",
       "      <td>17.272950</td>\n",
       "      <td>17.700705</td>\n",
       "      <td>16.653336</td>\n",
       "      <td>1.047369</td>\n",
       "      <td>5222.2837</td>\n",
       "      <td>Other</td>\n",
       "    </tr>\n",
       "    <tr>\n",
       "      <th>265</th>\n",
       "      <td>359.800712</td>\n",
       "      <td>55.948081</td>\n",
       "      <td>0.476470</td>\n",
       "      <td>-0.785729</td>\n",
       "      <td>-1.906318</td>\n",
       "      <td>17.525180</td>\n",
       "      <td>18.180155</td>\n",
       "      <td>16.755987</td>\n",
       "      <td>1.424168</td>\n",
       "      <td>4296.6250</td>\n",
       "      <td>NGC_7789</td>\n",
       "    </tr>\n",
       "    <tr>\n",
       "      <th>266</th>\n",
       "      <td>359.931384</td>\n",
       "      <td>56.017455</td>\n",
       "      <td>0.454876</td>\n",
       "      <td>-1.166511</td>\n",
       "      <td>-1.637231</td>\n",
       "      <td>17.030367</td>\n",
       "      <td>17.451424</td>\n",
       "      <td>16.395910</td>\n",
       "      <td>1.055513</td>\n",
       "      <td>5608.1465</td>\n",
       "      <td>Other</td>\n",
       "    </tr>\n",
       "    <tr>\n",
       "      <th>267</th>\n",
       "      <td>359.458759</td>\n",
       "      <td>55.896147</td>\n",
       "      <td>0.480959</td>\n",
       "      <td>-1.395051</td>\n",
       "      <td>-1.462129</td>\n",
       "      <td>17.948677</td>\n",
       "      <td>18.468685</td>\n",
       "      <td>17.260397</td>\n",
       "      <td>1.208288</td>\n",
       "      <td>4736.8400</td>\n",
       "      <td>Other</td>\n",
       "    </tr>\n",
       "    <tr>\n",
       "      <th>268</th>\n",
       "      <td>359.498434</td>\n",
       "      <td>55.904656</td>\n",
       "      <td>0.258754</td>\n",
       "      <td>-0.458683</td>\n",
       "      <td>-2.072979</td>\n",
       "      <td>17.734300</td>\n",
       "      <td>18.214066</td>\n",
       "      <td>17.100204</td>\n",
       "      <td>1.113861</td>\n",
       "      <td>4929.7090</td>\n",
       "      <td>Other</td>\n",
       "    </tr>\n",
       "  </tbody>\n",
       "</table>\n",
       "</div>"
      ],
      "text/plain": [
       "             ra        dec  parallax      pmra     pmdec  phot_g_mean_mag  \\\n",
       "264  359.973766  55.980510  0.345684 -1.264863 -2.185392        17.272950   \n",
       "265  359.800712  55.948081  0.476470 -0.785729 -1.906318        17.525180   \n",
       "266  359.931384  56.017455  0.454876 -1.166511 -1.637231        17.030367   \n",
       "267  359.458759  55.896147  0.480959 -1.395051 -1.462129        17.948677   \n",
       "268  359.498434  55.904656  0.258754 -0.458683 -2.072979        17.734300   \n",
       "\n",
       "     phot_bp_mean_mag  phot_rp_mean_mag     bp_rp  teff_gspphot   Cluster  \n",
       "264         17.700705         16.653336  1.047369     5222.2837     Other  \n",
       "265         18.180155         16.755987  1.424168     4296.6250  NGC_7789  \n",
       "266         17.451424         16.395910  1.055513     5608.1465     Other  \n",
       "267         18.468685         17.260397  1.208288     4736.8400     Other  \n",
       "268         18.214066         17.100204  1.113861     4929.7090     Other  "
      ]
     },
     "execution_count": 8,
     "metadata": {},
     "output_type": "execute_result"
    }
   ],
   "source": [
    "ngc_7789_filtered.head()"
   ]
  },
  {
   "cell_type": "code",
   "execution_count": 9,
   "metadata": {},
   "outputs": [
    {
     "name": "stdout",
     "output_type": "stream",
     "text": [
      "(2648, 11) (663, 11)\n"
     ]
    }
   ],
   "source": [
    "## Creating train and test sets\n",
    "ngc_train_val, ngc_test = train_test_split(ngc_7789_filtered, test_size = 0.20, random_state = 309)\n",
    "print(ngc_train_val.shape, ngc_test.shape)"
   ]
  },
  {
   "cell_type": "code",
   "execution_count": 10,
   "metadata": {},
   "outputs": [
    {
     "name": "stdout",
     "output_type": "stream",
     "text": [
      "(2118, 11) (530, 11)\n"
     ]
    }
   ],
   "source": [
    "## Creating validation set from training set\n",
    "ngc_train, ngc_val = train_test_split(ngc_train_val, test_size = 0.20, random_state = 309)\n",
    "print(ngc_train.shape, ngc_val.shape)"
   ]
  },
  {
   "cell_type": "code",
   "execution_count": 11,
   "metadata": {},
   "outputs": [
    {
     "name": "stdout",
     "output_type": "stream",
     "text": [
      "(2118, 10) (2118,) (530, 10) (530,) (663, 10) (663,)\n"
     ]
    }
   ],
   "source": [
    "## Splitting train, test, and validation sets into corresponding X and y\n",
    "target = 'Cluster'\n",
    "ngc_X_train = ngc_train.drop(target, axis = 1) \n",
    "ngc_y_train = ngc_train[target].copy() \n",
    "\n",
    "ngc_X_val = ngc_val.drop(target, axis = 1) \n",
    "ngc_y_val = ngc_val[target].copy() \n",
    "\n",
    "ngc_X_test = ngc_test.drop(target, axis = 1) \n",
    "ngc_y_test = ngc_test[target].copy() \n",
    "\n",
    "print(ngc_X_train.shape, ngc_y_train.shape, ngc_X_val.shape, ngc_y_val.shape, ngc_X_test.shape, ngc_y_test.shape)"
   ]
  },
  {
   "cell_type": "markdown",
   "metadata": {},
   "source": [
    "**Model Fitting and Preprocessing Function (Pipeline)**"
   ]
  },
  {
   "cell_type": "code",
   "execution_count": 12,
   "metadata": {},
   "outputs": [],
   "source": [
    "def ngc_xgb_transform(X, y):\n",
    "    '''XGBoost preprocessing and model fitting custom function for NGC 7789 data'''\n",
    "    \n",
    "    numerical_columns = [\"ra\", \"dec\", \"parallax\", \"pmra\", \"pmdec\", \"phot_g_mean_mag\", \"phot_bp_mean_mag\", \"phot_rp_mean_mag\", \"bp_rp\", \"teff_gspphot\"]\n",
    "\n",
    "    numerical_preprocessor = Pipeline([('scaler', StandardScaler()),\n",
    "                                       ('imputer', SimpleImputer(strategy = 'median'))])\n",
    "\n",
    "    preprocessor = ColumnTransformer([\n",
    "        ('scaler-and-imputer', numerical_preprocessor, numerical_columns),\n",
    "    ])\n",
    "\n",
    "    xgb_label_encoder = LabelEncoder()\n",
    "    y = xgb_label_encoder.fit_transform(y)\n",
    "\n",
    "    xgb_pipeline = Pipeline([\n",
    "        ('preprocessor', preprocessor),\n",
    "        ('classifier', XGBClassifier(objective = 'binary:logistic', random_state = 309))\n",
    "    ])\n",
    "\n",
    "    model = xgb_pipeline.fit(X, y)\n",
    "\n",
    "    return(model, xgb_label_encoder)"
   ]
  },
  {
   "cell_type": "markdown",
   "metadata": {},
   "source": [
    "**Model Evaluation Function**"
   ]
  },
  {
   "cell_type": "code",
   "execution_count": 13,
   "metadata": {},
   "outputs": [],
   "source": [
    "## Defining custom function to evaluate model performance\n",
    "def model_performance(model, X, y, label_enc, predictions = False):\n",
    "    '''Generates performance metrics for the model, also can produce graphs of the model performance'''\n",
    "\n",
    "    y_predicted = model.predict(X)\n",
    "\n",
    "    y = label_enc.transform(y)\n",
    "    y_predicted = model.predict(X) \n",
    "    y_predicted = label_enc.inverse_transform(y_predicted)\n",
    "    \n",
    "    cv = RepeatedStratifiedKFold(n_splits = 5, n_repeats = 1, random_state = 309)\n",
    "    \n",
    "    scores_RA = cross_val_score(model, X, y, cv = cv, scoring = \"roc_auc\")\n",
    "    scores_BA = cross_val_score(model, X, y, cv = cv, scoring = \"average_precision\")    \n",
    "        \n",
    "    print(f\"AUC-ROC: {scores_RA.mean():.4f} +/- {scores_RA.std():.4f}\")\n",
    "    print(f\"AUC_PR: {scores_BA.mean():.4f} +/- {scores_BA.std():.4f}\")\n",
    "\n",
    "    if predictions == True:\n",
    "        return(y_predicted)"
   ]
  },
  {
   "cell_type": "markdown",
   "metadata": {},
   "source": [
    "**XGBoost model training and evaluation**"
   ]
  },
  {
   "cell_type": "markdown",
   "metadata": {},
   "source": [
    "Using all features"
   ]
  },
  {
   "cell_type": "code",
   "execution_count": 14,
   "metadata": {},
   "outputs": [
    {
     "name": "stdout",
     "output_type": "stream",
     "text": [
      "AUC-ROC: 0.9023 +/- 0.0094\n",
      "AUC_PR: 0.8790 +/- 0.0127\n"
     ]
    }
   ],
   "source": [
    "## Performance of model on training data\n",
    "ngc_xgb_model = ngc_xgb_transform(ngc_X_train, ngc_y_train)\n",
    "model_performance(ngc_xgb_model[0], ngc_X_train, ngc_y_train, label_enc = ngc_xgb_model[1])"
   ]
  },
  {
   "cell_type": "code",
   "execution_count": 15,
   "metadata": {},
   "outputs": [
    {
     "name": "stdout",
     "output_type": "stream",
     "text": [
      "AUC-ROC: 0.9178 +/- 0.0168\n",
      "AUC_PR: 0.8956 +/- 0.0269\n"
     ]
    }
   ],
   "source": [
    "## Performance of model on validation data\n",
    "model_performance(ngc_xgb_model[0], ngc_X_val, ngc_y_val, label_enc = ngc_xgb_model[1])"
   ]
  },
  {
   "cell_type": "markdown",
   "metadata": {},
   "source": [
    "Removing all correlated features, except *phot_g_mean_mag*"
   ]
  },
  {
   "cell_type": "code",
   "execution_count": 16,
   "metadata": {},
   "outputs": [],
   "source": [
    "## Fitting model, removing correlated features\n",
    "def ngc_xgb_transform_2(X, y):\n",
    "    '''XGBoost preprocessing and model fitting custom function for NGC 7789 data'''\n",
    "    \n",
    "    numerical_columns = [\"ra\", \"dec\", \"parallax\", \"pmra\", \"pmdec\", \"phot_g_mean_mag\"]\n",
    "\n",
    "    numerical_preprocessor = Pipeline([('scaler', StandardScaler()),\n",
    "                                       ('imputer', SimpleImputer(strategy = 'median'))])\n",
    "\n",
    "    preprocessor = ColumnTransformer([\n",
    "        ('scaler-and-imputer', numerical_preprocessor, numerical_columns),\n",
    "    ])\n",
    "\n",
    "    xgb_label_encoder = LabelEncoder()\n",
    "    y = xgb_label_encoder.fit_transform(y)\n",
    "\n",
    "    xgb_pipeline = Pipeline([\n",
    "        ('preprocessor', preprocessor),\n",
    "        ('classifier', XGBClassifier(objective = 'binary:logistic', random_state = 309))\n",
    "    ])\n",
    "\n",
    "    model = xgb_pipeline.fit(X, y)\n",
    "\n",
    "    return(model, xgb_label_encoder)"
   ]
  },
  {
   "cell_type": "code",
   "execution_count": 17,
   "metadata": {},
   "outputs": [],
   "source": [
    "ngc_X_train_2 = ngc_X_train.drop([\"phot_bp_mean_mag\", \"phot_rp_mean_mag\", \"bp_rp\", \"teff_gspphot\"], axis = 1)\n",
    "ngc_X_val_2 = ngc_X_val.drop([\"phot_bp_mean_mag\", \"phot_rp_mean_mag\", \"bp_rp\", \"teff_gspphot\"], axis = 1)"
   ]
  },
  {
   "cell_type": "code",
   "execution_count": 18,
   "metadata": {},
   "outputs": [
    {
     "name": "stdout",
     "output_type": "stream",
     "text": [
      "AUC-ROC: 0.9040 +/- 0.0122\n",
      "AUC_PR: 0.8789 +/- 0.0171\n"
     ]
    }
   ],
   "source": [
    "## Performance of model on training data\n",
    "ngc_xgb_model_2 = ngc_xgb_transform_2(ngc_X_train_2, ngc_y_train)\n",
    "model_performance(ngc_xgb_model_2[0], ngc_X_train_2, ngc_y_train, label_enc = ngc_xgb_model_2[1])"
   ]
  },
  {
   "cell_type": "code",
   "execution_count": 19,
   "metadata": {},
   "outputs": [
    {
     "name": "stdout",
     "output_type": "stream",
     "text": [
      "AUC-ROC: 0.9137 +/- 0.0150\n",
      "AUC_PR: 0.8949 +/- 0.0209\n"
     ]
    }
   ],
   "source": [
    "## Performance of model on validation data\n",
    "model_performance(ngc_xgb_model_2[0], ngc_X_val_2, ngc_y_val, label_enc = ngc_xgb_model_2[1])"
   ]
  },
  {
   "cell_type": "markdown",
   "metadata": {},
   "source": [
    "Removing all correlated features, except *phot_g_mean_mag* and *teff_gspphot*"
   ]
  },
  {
   "cell_type": "code",
   "execution_count": 20,
   "metadata": {},
   "outputs": [],
   "source": [
    "## Fitting model, removing correlated features\n",
    "def ngc_xgb_transform_3(X, y):\n",
    "    '''XGBoost preprocessing and model fitting custom function for NGC 7789 data'''\n",
    "    \n",
    "    numerical_columns = [\"ra\", \"dec\", \"parallax\", \"pmra\", \"pmdec\", \"phot_g_mean_mag\", \"teff_gspphot\"]\n",
    "\n",
    "    numerical_preprocessor = Pipeline([('scaler', StandardScaler()),\n",
    "                                       ('imputer', SimpleImputer(strategy = 'median'))])\n",
    "\n",
    "    preprocessor = ColumnTransformer([\n",
    "        ('scaler-and-imputer', numerical_preprocessor, numerical_columns),\n",
    "    ])\n",
    "\n",
    "    xgb_label_encoder = LabelEncoder()\n",
    "    y = xgb_label_encoder.fit_transform(y)\n",
    "\n",
    "    xgb_pipeline = Pipeline([\n",
    "        ('preprocessor', preprocessor),\n",
    "        ('classifier', XGBClassifier(objective = 'binary:logistic', random_state = 309))\n",
    "    ])\n",
    "\n",
    "    model = xgb_pipeline.fit(X, y)\n",
    "\n",
    "    return(model, xgb_label_encoder)"
   ]
  },
  {
   "cell_type": "code",
   "execution_count": 21,
   "metadata": {},
   "outputs": [],
   "source": [
    "ngc_X_train_3 = ngc_X_train.drop([\"phot_bp_mean_mag\", \"phot_rp_mean_mag\", \"bp_rp\"], axis = 1)\n",
    "ngc_X_val_3 = ngc_X_val.drop([\"phot_bp_mean_mag\", \"phot_rp_mean_mag\", \"bp_rp\"], axis = 1)"
   ]
  },
  {
   "cell_type": "code",
   "execution_count": 22,
   "metadata": {},
   "outputs": [
    {
     "name": "stdout",
     "output_type": "stream",
     "text": [
      "AUC-ROC: 0.9045 +/- 0.0133\n",
      "AUC_PR: 0.8840 +/- 0.0162\n"
     ]
    }
   ],
   "source": [
    "## Performance of model on training data\n",
    "ngc_xgb_model_3 = ngc_xgb_transform_3(ngc_X_train_3, ngc_y_train)\n",
    "model_performance(ngc_xgb_model_3[0], ngc_X_train_3, ngc_y_train, label_enc = ngc_xgb_model_3[1])"
   ]
  },
  {
   "cell_type": "code",
   "execution_count": 23,
   "metadata": {},
   "outputs": [
    {
     "name": "stdout",
     "output_type": "stream",
     "text": [
      "AUC-ROC: 0.9165 +/- 0.0145\n",
      "AUC_PR: 0.8929 +/- 0.0175\n"
     ]
    }
   ],
   "source": [
    "## Performance of model on validation data\n",
    "model_performance(ngc_xgb_model_3[0], ngc_X_val_3, ngc_y_val, label_enc = ngc_xgb_model_3[1])"
   ]
  },
  {
   "cell_type": "markdown",
   "metadata": {},
   "source": [
    "<br>"
   ]
  },
  {
   "cell_type": "markdown",
   "metadata": {},
   "source": [
    "**Tuning XGB Model 2**"
   ]
  },
  {
   "cell_type": "code",
   "execution_count": 24,
   "metadata": {},
   "outputs": [
    {
     "name": "stdout",
     "output_type": "stream",
     "text": [
      "Best parameters: {'classifier__learning_rate': 0.1, 'classifier__max_depth': 3, 'classifier__n_estimators': 100}\n"
     ]
    }
   ],
   "source": [
    "numerical_columns = [\"ra\", \"dec\", \"parallax\", \"pmra\", \"pmdec\", \"phot_g_mean_mag\"]\n",
    "\n",
    "numerical_preprocessor = Pipeline([('scaler', StandardScaler()),\n",
    "                                    ('imputer', SimpleImputer(strategy = 'median'))])\n",
    "\n",
    "preprocessor = ColumnTransformer([\n",
    "    ('scaler-and-imputer', numerical_preprocessor, numerical_columns),\n",
    "])\n",
    "\n",
    "xgb_label_encoder = LabelEncoder()\n",
    "ngc_y_train_enc = xgb_label_encoder.fit_transform(ngc_y_train)\n",
    "\n",
    "xgb_model = Pipeline([\n",
    "    ('preprocessor', preprocessor),\n",
    "    ('classifier', XGBClassifier(objective = 'binary:logistic', random_state = 309))\n",
    "])\n",
    "\n",
    "param_grid = {\n",
    "    'classifier__n_estimators': [100, 200, 300],\n",
    "    'classifier__max_depth': [3, 4, 5],\n",
    "    'classifier__learning_rate': [0.1, 0.01, 0.001]\n",
    "}\n",
    "\n",
    "gridSearch = GridSearchCV(xgb_model, param_grid, cv = 5, scoring = 'roc_auc', return_train_score = True)\n",
    "gridSearch.fit(ngc_X_train_2, ngc_y_train_enc)\n",
    "\n",
    "print(\"Best parameters:\", gridSearch.best_params_)\n",
    "tuned_xgb_model = gridSearch.best_estimator_"
   ]
  },
  {
   "cell_type": "code",
   "execution_count": 25,
   "metadata": {},
   "outputs": [
    {
     "name": "stdout",
     "output_type": "stream",
     "text": [
      "AUC-ROC: 0.9235 +/- 0.0112\n",
      "AUC_PR: 0.9047 +/- 0.0183\n"
     ]
    }
   ],
   "source": [
    "## Model performance on validation set\n",
    "model_performance(tuned_xgb_model, ngc_X_val_2, ngc_y_val, label_enc = xgb_label_encoder)"
   ]
  },
  {
   "cell_type": "code",
   "execution_count": 26,
   "metadata": {},
   "outputs": [],
   "source": [
    "ngc_X_test_2 = ngc_X_test.drop([\"phot_bp_mean_mag\", \"phot_rp_mean_mag\", \"bp_rp\", \"teff_gspphot\"], axis = 1)"
   ]
  },
  {
   "cell_type": "code",
   "execution_count": 27,
   "metadata": {},
   "outputs": [
    {
     "name": "stdout",
     "output_type": "stream",
     "text": [
      "AUC-ROC: 0.8890 +/- 0.0321\n",
      "AUC_PR: 0.8574 +/- 0.0365\n"
     ]
    }
   ],
   "source": [
    "## Model performance on test set\n",
    "model_performance(tuned_xgb_model, ngc_X_test_2, ngc_y_test, label_enc = xgb_label_encoder)"
   ]
  },
  {
   "cell_type": "code",
   "execution_count": 28,
   "metadata": {},
   "outputs": [
    {
     "name": "stdout",
     "output_type": "stream",
     "text": [
      "Best parameters: {'classifier__learning_rate': 0.1, 'classifier__max_depth': 3, 'classifier__n_estimators': 100}\n"
     ]
    }
   ],
   "source": [
    "## Model performance on test set, after training on train and validation sets\n",
    "ngc_X_train_val = ngc_train_val.drop(target, axis = 1) \n",
    "ngc_y_train_val = ngc_train_val[target].copy() \n",
    "ngc_X_train_val_2 = ngc_X_train_val.drop([\"phot_bp_mean_mag\", \"phot_rp_mean_mag\", \"bp_rp\", \"teff_gspphot\"], axis = 1)\n",
    "\n",
    "numerical_columns = [\"ra\", \"dec\", \"parallax\", \"pmra\", \"pmdec\", \"phot_g_mean_mag\"]\n",
    "\n",
    "numerical_preprocessor = Pipeline([('scaler', StandardScaler()),\n",
    "                                    ('imputer', SimpleImputer(strategy = 'median'))])\n",
    "\n",
    "preprocessor = ColumnTransformer([\n",
    "    ('scaler-and-imputer', numerical_preprocessor, numerical_columns),\n",
    "])\n",
    "\n",
    "xgb_label_encoder = LabelEncoder()\n",
    "ngc_y_train_val_enc = xgb_label_encoder.fit_transform(ngc_y_train_val)\n",
    "\n",
    "xgb_model = Pipeline([\n",
    "    ('preprocessor', preprocessor),\n",
    "    ('classifier', XGBClassifier(objective = 'binary:logistic', random_state = 309))\n",
    "])\n",
    "\n",
    "param_grid = {\n",
    "    'classifier__n_estimators': [100, 200, 300],\n",
    "    'classifier__max_depth': [3, 4, 5],\n",
    "    'classifier__learning_rate': [0.1, 0.01, 0.001]\n",
    "}\n",
    "\n",
    "gridSearch = GridSearchCV(xgb_model, param_grid, cv = 5, scoring = 'roc_auc', return_train_score = True)\n",
    "gridSearch.fit(ngc_X_train_val_2, ngc_y_train_val_enc)\n",
    "\n",
    "print(\"Best parameters:\", gridSearch.best_params_)\n",
    "tuned_xgb_model = gridSearch.best_estimator_"
   ]
  },
  {
   "cell_type": "code",
   "execution_count": 29,
   "metadata": {},
   "outputs": [
    {
     "name": "stdout",
     "output_type": "stream",
     "text": [
      "AUC-ROC: 0.8890 +/- 0.0321\n",
      "AUC_PR: 0.8574 +/- 0.0365\n"
     ]
    }
   ],
   "source": [
    "tuned_perf = model_performance(tuned_xgb_model, ngc_X_test_2, ngc_y_test, label_enc = xgb_label_encoder, predictions = True)"
   ]
  },
  {
   "cell_type": "markdown",
   "metadata": {},
   "source": [
    "<br>"
   ]
  },
  {
   "cell_type": "markdown",
   "metadata": {},
   "source": [
    "**Visualisations**"
   ]
  },
  {
   "cell_type": "code",
   "execution_count": 30,
   "metadata": {},
   "outputs": [
    {
     "data": {
      "image/png": "[encoded data removed]",
      "text/plain": [
       "<Figure size 800x800 with 1 Axes>"
      ]
     },
     "metadata": {},
     "output_type": "display_data"
    }
   ],
   "source": [
    "model_predictions = xgb_label_encoder.fit_transform(tuned_perf)\n",
    "ngc_y_test_enc = xgb_label_encoder.fit_transform(ngc_y_test)\n",
    "\n",
    "predictions_data = pd.DataFrame({\n",
    "    'ra': ngc_X_test_2['ra'],\n",
    "    'dec': ngc_X_test_2['dec'],\n",
    "    'prediction': model_predictions\n",
    "})\n",
    "\n",
    "plt.figure(figsize=(8, 8))\n",
    "\n",
    "# Correctly classified points in blue\n",
    "sns.scatterplot(x = 'ra', y = 'dec', data = predictions_data[predictions_data['prediction'] == 0], color = 'green', alpha = 0.75, label = 'Correct')\n",
    "\n",
    "# False positives (squares)\n",
    "false_positives = predictions_data[(predictions_data['prediction'] == 0) & (ngc_y_test_enc == 1)]\n",
    "sns.scatterplot(x = 'ra', y = 'dec', data = false_positives, color = 'blue', marker = 's', s = 50, alpha = 0.75, label = 'False Positives')\n",
    "\n",
    "# False negatives (triangles)\n",
    "false_negatives = predictions_data[(predictions_data['prediction'] == 1) & (ngc_y_test_enc == 0)]\n",
    "sns.scatterplot(x = 'ra', y = 'dec', data = false_negatives, color = 'red', marker = '^', s = 50, alpha = 0.75, label = 'False Negatives')\n",
    "\n",
    "plt.xlabel('Right Ascension [degrees]')\n",
    "plt.ylabel('Declination [degrees]')\n",
    "plt.title('NGC 7789 Region: Right Ascension vs. Declination (Test Set Predictions)')\n",
    "plt.legend()\n",
    "plt.show()"
   ]
  },
  {
   "cell_type": "code",
   "execution_count": 31,
   "metadata": {},
   "outputs": [
    {
     "data": {
      "text/plain": [
       "49"
      ]
     },
     "execution_count": 31,
     "metadata": {},
     "output_type": "execute_result"
    }
   ],
   "source": [
    "len(false_negatives)"
   ]
  },
  {
   "cell_type": "code",
   "execution_count": 32,
   "metadata": {},
   "outputs": [
    {
     "data": {
      "text/plain": [
       "55"
      ]
     },
     "execution_count": 32,
     "metadata": {},
     "output_type": "execute_result"
    }
   ],
   "source": [
    "len(false_positives)"
   ]
  },
  {
   "cell_type": "code",
   "execution_count": 33,
   "metadata": {},
   "outputs": [
    {
     "data": {
      "image/png": "[encoded data removed]",
      "text/plain": [
       "<Figure size 1000x600 with 1 Axes>"
      ]
     },
     "metadata": {},
     "output_type": "display_data"
    }
   ],
   "source": [
    "feature_names = ngc_X_train_2.columns  \n",
    "importances = tuned_xgb_model.named_steps['classifier'].feature_importances_\n",
    "\n",
    "sorted_idx = importances.argsort()[::-1]\n",
    "\n",
    "sorted_feature_names = [feature_names[i] for i in sorted_idx]\n",
    "sorted_importances = importances[sorted_idx]\n",
    "\n",
    "plt.figure(figsize = (10, 6))\n",
    "plt.barh(sorted_feature_names, sorted_importances)\n",
    "plt.xlabel('Feature Importance Score')\n",
    "plt.ylabel('Features')\n",
    "plt.title('NGC 7789 Model: Feature Importances Plot')\n",
    "plt.show()\n"
   ]
  },
  {
   "cell_type": "markdown",
   "metadata": {},
   "source": [
    "***"
   ]
  },
  {
   "cell_type": "markdown",
   "metadata": {},
   "source": [
    "### Trumpler 5 Star Cluster Members Classification"
   ]
  },
  {
   "cell_type": "code",
   "execution_count": 34,
   "metadata": {},
   "outputs": [],
   "source": [
    "trumpler_5_filtered = trumpler_5.copy()"
   ]
  },
  {
   "cell_type": "code",
   "execution_count": 35,
   "metadata": {},
   "outputs": [
    {
     "data": {
      "text/plain": [
       "(3302, 11)"
      ]
     },
     "execution_count": 35,
     "metadata": {},
     "output_type": "execute_result"
    }
   ],
   "source": [
    "## Removing redundant column 'source_id' \n",
    "trumpler_5_filtered = trumpler_5_filtered.drop(['radial_velocity', 'source_id'], axis = 1)\n",
    "trumpler_5_filtered.shape"
   ]
  },
  {
   "cell_type": "code",
   "execution_count": 36,
   "metadata": {},
   "outputs": [
    {
     "data": {
      "text/html": [
       "<div>\n",
       "<style scoped>\n",
       "    .dataframe tbody tr th:only-of-type {\n",
       "        vertical-align: middle;\n",
       "    }\n",
       "\n",
       "    .dataframe tbody tr th {\n",
       "        vertical-align: top;\n",
       "    }\n",
       "\n",
       "    .dataframe thead th {\n",
       "        text-align: right;\n",
       "    }\n",
       "</style>\n",
       "<table border=\"1\" class=\"dataframe\">\n",
       "  <thead>\n",
       "    <tr style=\"text-align: right;\">\n",
       "      <th></th>\n",
       "      <th>ra</th>\n",
       "      <th>dec</th>\n",
       "      <th>parallax</th>\n",
       "      <th>pmra</th>\n",
       "      <th>pmdec</th>\n",
       "      <th>phot_g_mean_mag</th>\n",
       "      <th>phot_bp_mean_mag</th>\n",
       "      <th>phot_rp_mean_mag</th>\n",
       "      <th>bp_rp</th>\n",
       "      <th>teff_gspphot</th>\n",
       "      <th>Cluster</th>\n",
       "    </tr>\n",
       "  </thead>\n",
       "  <tbody>\n",
       "    <tr>\n",
       "      <th>0</th>\n",
       "      <td>99.180263</td>\n",
       "      <td>8.938090</td>\n",
       "      <td>0.117289</td>\n",
       "      <td>-0.767038</td>\n",
       "      <td>0.202383</td>\n",
       "      <td>17.720343</td>\n",
       "      <td>18.314255</td>\n",
       "      <td>16.970951</td>\n",
       "      <td>1.343304</td>\n",
       "      <td>5201.7600</td>\n",
       "      <td>Other</td>\n",
       "    </tr>\n",
       "    <tr>\n",
       "      <th>1</th>\n",
       "      <td>99.123816</td>\n",
       "      <td>8.924983</td>\n",
       "      <td>-0.052569</td>\n",
       "      <td>0.351594</td>\n",
       "      <td>-0.838942</td>\n",
       "      <td>17.792180</td>\n",
       "      <td>18.782574</td>\n",
       "      <td>16.812962</td>\n",
       "      <td>1.969612</td>\n",
       "      <td>4615.8970</td>\n",
       "      <td>Other</td>\n",
       "    </tr>\n",
       "    <tr>\n",
       "      <th>2</th>\n",
       "      <td>99.161032</td>\n",
       "      <td>8.937259</td>\n",
       "      <td>0.354193</td>\n",
       "      <td>-0.229926</td>\n",
       "      <td>-0.055456</td>\n",
       "      <td>16.855852</td>\n",
       "      <td>17.416264</td>\n",
       "      <td>16.147139</td>\n",
       "      <td>1.269125</td>\n",
       "      <td>5466.8804</td>\n",
       "      <td>Other</td>\n",
       "    </tr>\n",
       "    <tr>\n",
       "      <th>3</th>\n",
       "      <td>99.175908</td>\n",
       "      <td>8.955257</td>\n",
       "      <td>0.423364</td>\n",
       "      <td>0.278428</td>\n",
       "      <td>-0.069258</td>\n",
       "      <td>17.581598</td>\n",
       "      <td>18.265062</td>\n",
       "      <td>16.802801</td>\n",
       "      <td>1.462261</td>\n",
       "      <td>5164.1900</td>\n",
       "      <td>Other</td>\n",
       "    </tr>\n",
       "    <tr>\n",
       "      <th>4</th>\n",
       "      <td>99.104969</td>\n",
       "      <td>8.958145</td>\n",
       "      <td>0.333585</td>\n",
       "      <td>-0.597968</td>\n",
       "      <td>-0.295040</td>\n",
       "      <td>17.811178</td>\n",
       "      <td>18.439910</td>\n",
       "      <td>17.031984</td>\n",
       "      <td>1.407927</td>\n",
       "      <td>4466.0156</td>\n",
       "      <td>Other</td>\n",
       "    </tr>\n",
       "  </tbody>\n",
       "</table>\n",
       "</div>"
      ],
      "text/plain": [
       "          ra       dec  parallax      pmra     pmdec  phot_g_mean_mag  \\\n",
       "0  99.180263  8.938090  0.117289 -0.767038  0.202383        17.720343   \n",
       "1  99.123816  8.924983 -0.052569  0.351594 -0.838942        17.792180   \n",
       "2  99.161032  8.937259  0.354193 -0.229926 -0.055456        16.855852   \n",
       "3  99.175908  8.955257  0.423364  0.278428 -0.069258        17.581598   \n",
       "4  99.104969  8.958145  0.333585 -0.597968 -0.295040        17.811178   \n",
       "\n",
       "   phot_bp_mean_mag  phot_rp_mean_mag     bp_rp  teff_gspphot Cluster  \n",
       "0         18.314255         16.970951  1.343304     5201.7600   Other  \n",
       "1         18.782574         16.812962  1.969612     4615.8970   Other  \n",
       "2         17.416264         16.147139  1.269125     5466.8804   Other  \n",
       "3         18.265062         16.802801  1.462261     5164.1900   Other  \n",
       "4         18.439910         17.031984  1.407927     4466.0156   Other  "
      ]
     },
     "execution_count": 36,
     "metadata": {},
     "output_type": "execute_result"
    }
   ],
   "source": [
    "trumpler_5_filtered.head()"
   ]
  },
  {
   "cell_type": "code",
   "execution_count": 37,
   "metadata": {},
   "outputs": [
    {
     "name": "stdout",
     "output_type": "stream",
     "text": [
      "(2641, 11) (661, 11)\n"
     ]
    }
   ],
   "source": [
    "## Creating train and test sets\n",
    "t5_train_val, t5_test = train_test_split(trumpler_5_filtered, test_size = 0.20, random_state = 309)\n",
    "print(t5_train_val.shape, t5_test.shape)"
   ]
  },
  {
   "cell_type": "code",
   "execution_count": 38,
   "metadata": {},
   "outputs": [
    {
     "name": "stdout",
     "output_type": "stream",
     "text": [
      "(2112, 11) (529, 11)\n"
     ]
    }
   ],
   "source": [
    "## Creating validation set from training set\n",
    "t5_train, t5_val = train_test_split(t5_train_val, test_size = 0.20, random_state = 309)\n",
    "print(t5_train.shape, t5_val.shape)"
   ]
  },
  {
   "cell_type": "code",
   "execution_count": 39,
   "metadata": {},
   "outputs": [
    {
     "name": "stdout",
     "output_type": "stream",
     "text": [
      "(2112, 10) (2112,) (529, 10) (529,) (661, 10) (661,)\n"
     ]
    }
   ],
   "source": [
    "target = 'Cluster'\n",
    "t5_X_train = t5_train.drop(target, axis=1) \n",
    "t5_y_train = t5_train[target].copy() \n",
    "\n",
    "t5_X_val = t5_val.drop(target, axis=1) \n",
    "t5_y_val = t5_val[target].copy() \n",
    "\n",
    "t5_X_test = t5_test.drop(target, axis=1) \n",
    "t5_y_test = t5_test[target].copy() \n",
    "\n",
    "print(t5_X_train.shape, t5_y_train.shape, t5_X_val.shape, t5_y_val.shape, t5_X_test.shape, t5_y_test.shape)"
   ]
  },
  {
   "cell_type": "code",
   "execution_count": 40,
   "metadata": {},
   "outputs": [],
   "source": [
    "def t5_xgb_transform(X, y, synthetic_sampling = True):\n",
    "    '''XGBoost preprocessing and model fitting custom function'''\n",
    "    \n",
    "    numerical_columns = [\"ra\", \"dec\", \"parallax\", \"pmra\", \"pmdec\", \"phot_g_mean_mag\", \"phot_bp_mean_mag\", \"phot_rp_mean_mag\", \"bp_rp\", \"teff_gspphot\"]\n",
    "\n",
    "    numerical_preprocessor = Pipeline([('scaler', StandardScaler()),\n",
    "                                       ('imputer', SimpleImputer(strategy = 'median'))])\n",
    "\n",
    "    preprocessor = ColumnTransformer([\n",
    "        ('scaler-and-imputer', numerical_preprocessor, numerical_columns),\n",
    "    ])\n",
    "\n",
    "    xgb_label_encoder = LabelEncoder()\n",
    "    y = xgb_label_encoder.fit_transform(y)\n",
    "\n",
    "\n",
    "    if synthetic_sampling == True:\n",
    "        xgb_pipeline = Pipeline([\n",
    "            ('preprocessor', preprocessor),\n",
    "            (\"over\", SMOTE(sampling_strategy = 0.80, random_state = 309)),\n",
    "            (\"under\", RandomUnderSampler(sampling_strategy = 1.0, random_state = 309)),\n",
    "            ('classifier', XGBClassifier(objective = 'binary:logistic', random_state = 309))\n",
    "        ])\n",
    "\n",
    "    else:\n",
    "        xgb_pipeline = Pipeline([\n",
    "            ('preprocessor', preprocessor),\n",
    "            ('classifier', XGBClassifier(objective = 'binary:logistic', random_state = 309))\n",
    "        ])\n",
    "\n",
    "    model = xgb_pipeline.fit(X, y)\n",
    "\n",
    "    return(model, xgb_label_encoder)"
   ]
  },
  {
   "cell_type": "markdown",
   "metadata": {},
   "source": [
    "**Model training and evaluation**"
   ]
  },
  {
   "cell_type": "markdown",
   "metadata": {},
   "source": [
    "Using all features"
   ]
  },
  {
   "cell_type": "code",
   "execution_count": 41,
   "metadata": {},
   "outputs": [
    {
     "name": "stdout",
     "output_type": "stream",
     "text": [
      "Training Data Performance\n"
     ]
    },
    {
     "name": "stdout",
     "output_type": "stream",
     "text": [
      "AUC-ROC: 0.8368 +/- 0.0195\n",
      "AUC_PR: 0.6495 +/- 0.0399\n",
      "\n",
      "Validation Data Performance\n",
      "AUC-ROC: 0.8449 +/- 0.0598\n",
      "AUC_PR: 0.6704 +/- 0.1010\n"
     ]
    }
   ],
   "source": [
    "## Performance of model on training data, validation data, without synthetic sampling\n",
    "t5_xgb_model = t5_xgb_transform(t5_X_train, t5_y_train, synthetic_sampling = False)\n",
    "print(\"Training Data Performance\")\n",
    "model_performance(t5_xgb_model[0], t5_X_train, t5_y_train, label_enc = t5_xgb_model[1])\n",
    "print(\"\")\n",
    "print(\"Validation Data Performance\")\n",
    "model_performance(t5_xgb_model[0], t5_X_val, t5_y_val, label_enc = t5_xgb_model[1])"
   ]
  },
  {
   "cell_type": "code",
   "execution_count": 42,
   "metadata": {},
   "outputs": [
    {
     "name": "stdout",
     "output_type": "stream",
     "text": [
      "Training Data Performance\n",
      "AUC-ROC: 0.8387 +/- 0.0131\n",
      "AUC_PR: 0.6558 +/- 0.0239\n",
      "\n",
      "Validation Data Performance\n",
      "AUC-ROC: 0.8500 +/- 0.0533\n",
      "AUC_PR: 0.7086 +/- 0.0695\n"
     ]
    }
   ],
   "source": [
    "## Performance of model on training data, validation data, with synthetic sampling\n",
    "t5_xgb_model = t5_xgb_transform(t5_X_train, t5_y_train, synthetic_sampling = True)\n",
    "print(\"Training Data Performance\")\n",
    "model_performance(t5_xgb_model[0], t5_X_train, t5_y_train, label_enc = t5_xgb_model[1])\n",
    "print(\"\")\n",
    "print(\"Validation Data Performance\")\n",
    "model_performance(t5_xgb_model[0], t5_X_val, t5_y_val, label_enc = t5_xgb_model[1])"
   ]
  },
  {
   "cell_type": "markdown",
   "metadata": {},
   "source": [
    "Removing all correlated features, except *phot_g_mean_mag*"
   ]
  },
  {
   "cell_type": "code",
   "execution_count": 43,
   "metadata": {},
   "outputs": [],
   "source": [
    "def t5_xgb_transform_2(X, y, synthetic_sampling = True):\n",
    "    '''XGBoost preprocessing and model fitting custom function'''\n",
    "    \n",
    "    numerical_columns = [\"ra\", \"dec\", \"parallax\", \"pmra\", \"pmdec\", \"phot_g_mean_mag\"]\n",
    "    \n",
    "    numerical_preprocessor = Pipeline([('scaler', StandardScaler()),\n",
    "                                       ('imputer', SimpleImputer(strategy = 'median'))])\n",
    "\n",
    "    preprocessor = ColumnTransformer([\n",
    "        ('scaler-and-imputer', numerical_preprocessor, numerical_columns),\n",
    "    ])\n",
    "\n",
    "    xgb_label_encoder = LabelEncoder()\n",
    "    y = xgb_label_encoder.fit_transform(y)\n",
    "\n",
    "\n",
    "    if synthetic_sampling == True:\n",
    "        xgb_pipeline = Pipeline([\n",
    "            ('preprocessor', preprocessor),\n",
    "            (\"over\", SMOTE(sampling_strategy = 0.80, random_state = 309)),\n",
    "            (\"under\", RandomUnderSampler(sampling_strategy = 1.0, random_state = 309)),\n",
    "            ('classifier', XGBClassifier(objective = 'binary:logistic', random_state = 309))\n",
    "        ])\n",
    "\n",
    "    else:\n",
    "        xgb_pipeline = Pipeline([\n",
    "            ('preprocessor', preprocessor),\n",
    "            ('classifier', XGBClassifier(objective = 'binary:logistic', random_state = 309))\n",
    "        ])\n",
    "\n",
    "    model = xgb_pipeline.fit(X, y)\n",
    "\n",
    "    return(model, xgb_label_encoder)"
   ]
  },
  {
   "cell_type": "code",
   "execution_count": 44,
   "metadata": {},
   "outputs": [],
   "source": [
    "t5_X_train_2 = t5_X_train.drop([\"phot_bp_mean_mag\", \"phot_rp_mean_mag\", \"bp_rp\", \"teff_gspphot\"], axis = 1)\n",
    "t5_X_val_2 = t5_X_val.drop([\"phot_bp_mean_mag\", \"phot_rp_mean_mag\", \"bp_rp\", \"teff_gspphot\"], axis = 1)"
   ]
  },
  {
   "cell_type": "code",
   "execution_count": 45,
   "metadata": {},
   "outputs": [
    {
     "name": "stdout",
     "output_type": "stream",
     "text": [
      "Training Data Performance\n",
      "AUC-ROC: 0.8308 +/- 0.0188\n",
      "AUC_PR: 0.6416 +/- 0.0328\n",
      "\n",
      "Validation Data Performance\n",
      "AUC-ROC: 0.8260 +/- 0.0457\n",
      "AUC_PR: 0.6205 +/- 0.0597\n"
     ]
    }
   ],
   "source": [
    "## Performance of model on training data, validation data, without synthetic sampling\n",
    "t5_xgb_model_2 = t5_xgb_transform_2(t5_X_train_2, t5_y_train, synthetic_sampling = False)\n",
    "print(\"Training Data Performance\")\n",
    "model_performance(t5_xgb_model_2[0], t5_X_train_2, t5_y_train, label_enc = t5_xgb_model_2[1])\n",
    "print(\"\")\n",
    "print(\"Validation Data Performance\")\n",
    "model_performance(t5_xgb_model_2[0], t5_X_val_2, t5_y_val, label_enc = t5_xgb_model_2[1])"
   ]
  },
  {
   "cell_type": "code",
   "execution_count": 46,
   "metadata": {},
   "outputs": [
    {
     "name": "stdout",
     "output_type": "stream",
     "text": [
      "Training Data Performance\n",
      "AUC-ROC: 0.8265 +/- 0.0132\n",
      "AUC_PR: 0.6315 +/- 0.0269\n",
      "\n",
      "Validation Data Performance\n",
      "AUC-ROC: 0.8323 +/- 0.0386\n",
      "AUC_PR: 0.6430 +/- 0.0635\n"
     ]
    }
   ],
   "source": [
    "## Performance of model on training data, validation data, with synthetic sampling\n",
    "t5_xgb_model_2 = t5_xgb_transform_2(t5_X_train_2, t5_y_train, synthetic_sampling = True)\n",
    "print(\"Training Data Performance\")\n",
    "model_performance(t5_xgb_model_2[0], t5_X_train_2, t5_y_train, label_enc = t5_xgb_model_2[1])\n",
    "print(\"\")\n",
    "print(\"Validation Data Performance\")\n",
    "model_performance(t5_xgb_model_2[0], t5_X_val_2, t5_y_val, label_enc = t5_xgb_model_2[1])"
   ]
  },
  {
   "cell_type": "markdown",
   "metadata": {},
   "source": [
    "Removing all correlated features, except *phot_g_mean_mag* and *teff_gspphot*"
   ]
  },
  {
   "cell_type": "code",
   "execution_count": 47,
   "metadata": {},
   "outputs": [],
   "source": [
    "def t5_xgb_transform_3(X, y, synthetic_sampling = True):\n",
    "    '''XGBoost preprocessing and model fitting custom function'''\n",
    "    \n",
    "    numerical_columns = [\"ra\", \"dec\", \"parallax\", \"pmra\", \"pmdec\", \"phot_g_mean_mag\", \"teff_gspphot\"]\n",
    "    \n",
    "    numerical_preprocessor = Pipeline([('scaler', StandardScaler()),\n",
    "                                       ('imputer', SimpleImputer(strategy = 'median'))])\n",
    "\n",
    "    preprocessor = ColumnTransformer([\n",
    "        ('scaler-and-imputer', numerical_preprocessor, numerical_columns),\n",
    "    ])\n",
    "\n",
    "    xgb_label_encoder = LabelEncoder()\n",
    "    y = xgb_label_encoder.fit_transform(y)\n",
    "\n",
    "\n",
    "    if synthetic_sampling == True:\n",
    "        xgb_pipeline = Pipeline([\n",
    "            ('preprocessor', preprocessor),\n",
    "            (\"over\", SMOTE(sampling_strategy = 0.80, random_state = 309)),\n",
    "            (\"under\", RandomUnderSampler(sampling_strategy = 1.0, random_state = 309)),\n",
    "            ('classifier', XGBClassifier(objective = 'binary:logistic', random_state = 309))\n",
    "        ])\n",
    "\n",
    "    else:\n",
    "        xgb_pipeline = Pipeline([\n",
    "            ('preprocessor', preprocessor),\n",
    "            ('classifier', XGBClassifier(objective = 'binary:logistic', random_state = 309))\n",
    "        ])\n",
    "\n",
    "    model = xgb_pipeline.fit(X, y)\n",
    "\n",
    "    return(model, xgb_label_encoder)"
   ]
  },
  {
   "cell_type": "code",
   "execution_count": 48,
   "metadata": {},
   "outputs": [],
   "source": [
    "t5_X_train_3 = t5_X_train.drop([\"phot_bp_mean_mag\", \"phot_rp_mean_mag\", \"bp_rp\"], axis = 1)\n",
    "t5_X_val_3 = t5_X_val.drop([\"phot_bp_mean_mag\", \"phot_rp_mean_mag\", \"bp_rp\"], axis = 1)"
   ]
  },
  {
   "cell_type": "code",
   "execution_count": 49,
   "metadata": {},
   "outputs": [
    {
     "name": "stdout",
     "output_type": "stream",
     "text": [
      "Training Data Performance\n",
      "AUC-ROC: 0.8351 +/- 0.0210\n",
      "AUC_PR: 0.6464 +/- 0.0369\n",
      "\n",
      "Validation Data Performance\n",
      "AUC-ROC: 0.8310 +/- 0.0538\n",
      "AUC_PR: 0.6517 +/- 0.0769\n"
     ]
    }
   ],
   "source": [
    "## Performance of model on training data, validation data, without synthetic sampling\n",
    "t5_xgb_model_3 = t5_xgb_transform_3(t5_X_train_3, t5_y_train, synthetic_sampling = False)\n",
    "print(\"Training Data Performance\")\n",
    "model_performance(t5_xgb_model_3[0], t5_X_train_3, t5_y_train, label_enc = t5_xgb_model_3[1])\n",
    "print(\"\")\n",
    "print(\"Validation Data Performance\")\n",
    "model_performance(t5_xgb_model_3[0], t5_X_val_3, t5_y_val, label_enc = t5_xgb_model_3[1])"
   ]
  },
  {
   "cell_type": "code",
   "execution_count": 50,
   "metadata": {},
   "outputs": [
    {
     "name": "stdout",
     "output_type": "stream",
     "text": [
      "Training Data Performance\n",
      "AUC-ROC: 0.8332 +/- 0.0129\n",
      "AUC_PR: 0.6460 +/- 0.0203\n",
      "\n",
      "Validation Data Performance\n",
      "AUC-ROC: 0.8409 +/- 0.0404\n",
      "AUC_PR: 0.6700 +/- 0.0503\n"
     ]
    }
   ],
   "source": [
    "## Performance of model on training data, validation data, with synthetic sampling\n",
    "t5_xgb_model_3 = t5_xgb_transform_3(t5_X_train_3, t5_y_train, synthetic_sampling = True)\n",
    "print(\"Training Data Performance\")\n",
    "model_performance(t5_xgb_model_3[0], t5_X_train_3, t5_y_train, label_enc = t5_xgb_model_3[1])\n",
    "print(\"\")\n",
    "print(\"Validation Data Performance\")\n",
    "model_performance(t5_xgb_model_3[0], t5_X_val_3, t5_y_val, label_enc = t5_xgb_model_3[1])"
   ]
  },
  {
   "cell_type": "markdown",
   "metadata": {},
   "source": [
    "**Tuning XGB Model 1, synthetic sampling**"
   ]
  },
  {
   "cell_type": "code",
   "execution_count": 51,
   "metadata": {},
   "outputs": [
    {
     "name": "stdout",
     "output_type": "stream",
     "text": [
      "Best parameters: {'classifier__learning_rate': 0.1, 'classifier__max_depth': 3, 'classifier__n_estimators': 100}\n"
     ]
    }
   ],
   "source": [
    "numerical_columns = [\"ra\", \"dec\", \"parallax\", \"pmra\", \"pmdec\", \"phot_g_mean_mag\", \"phot_bp_mean_mag\", \"phot_rp_mean_mag\", \"bp_rp\", \"teff_gspphot\"]\n",
    "\n",
    "numerical_preprocessor = Pipeline([('scaler', StandardScaler()),\n",
    "                                    ('imputer', SimpleImputer(strategy = 'median'))])\n",
    "\n",
    "preprocessor = ColumnTransformer([\n",
    "    ('scaler-and-imputer', numerical_preprocessor, numerical_columns),\n",
    "])\n",
    "\n",
    "xgb_label_encoder = LabelEncoder()\n",
    "t5_y_train_enc = xgb_label_encoder.fit_transform(t5_y_train)\n",
    "\n",
    "xgb_pipeline = Pipeline([\n",
    "    ('preprocessor', preprocessor),\n",
    "    (\"over\", SMOTE(sampling_strategy = 0.80, random_state = 309)),\n",
    "    (\"under\", RandomUnderSampler(sampling_strategy = 1.0, random_state = 309)),\n",
    "    ('classifier', XGBClassifier(objective = 'binary:logistic', random_state = 309))\n",
    "])\n",
    "\n",
    "param_grid = {\n",
    "    'classifier__n_estimators': [100, 200, 300],\n",
    "    'classifier__max_depth': [3, 4, 5],\n",
    "    'classifier__learning_rate': [0.1, 0.01, 0.001]\n",
    "}\n",
    "\n",
    "gridSearch = GridSearchCV(xgb_model, param_grid, cv = 5, scoring = 'average_precision', return_train_score = True)\n",
    "gridSearch.fit(t5_X_train, t5_y_train_enc)\n",
    "\n",
    "print(\"Best parameters:\", gridSearch.best_params_)\n",
    "tuned_xgb_model = gridSearch.best_estimator_"
   ]
  },
  {
   "cell_type": "code",
   "execution_count": 52,
   "metadata": {},
   "outputs": [
    {
     "name": "stdout",
     "output_type": "stream",
     "text": [
      "AUC-ROC: 0.8611 +/- 0.0430\n",
      "AUC_PR: 0.6809 +/- 0.0671\n"
     ]
    }
   ],
   "source": [
    "## Model performance on validation set\n",
    "model_performance(tuned_xgb_model, t5_X_val, t5_y_val, label_enc = xgb_label_encoder)"
   ]
  },
  {
   "cell_type": "code",
   "execution_count": 53,
   "metadata": {},
   "outputs": [
    {
     "name": "stdout",
     "output_type": "stream",
     "text": [
      "AUC-ROC: 0.8651 +/- 0.0388\n",
      "AUC_PR: 0.7152 +/- 0.0662\n"
     ]
    }
   ],
   "source": [
    "## Model performance on test set\n",
    "tuned_perf = model_performance(tuned_xgb_model, t5_X_test, t5_y_test, label_enc = xgb_label_encoder, predictions = True)"
   ]
  },
  {
   "cell_type": "code",
   "execution_count": 54,
   "metadata": {},
   "outputs": [
    {
     "data": {
      "text/plain": [
       "125          Other\n",
       "889          Other\n",
       "552          Other\n",
       "853          Other\n",
       "3049         Other\n",
       "           ...    \n",
       "2743    Trumpler_5\n",
       "1361         Other\n",
       "2327         Other\n",
       "1784         Other\n",
       "2862         Other\n",
       "Name: Cluster, Length: 661, dtype: object"
      ]
     },
     "execution_count": 54,
     "metadata": {},
     "output_type": "execute_result"
    }
   ],
   "source": [
    "t5_y_test"
   ]
  },
  {
   "cell_type": "code",
   "execution_count": 55,
   "metadata": {},
   "outputs": [
    {
     "data": {
      "image/png": "[encoded data removed]",
      "text/plain": [
       "<Figure size 800x800 with 1 Axes>"
      ]
     },
     "metadata": {},
     "output_type": "display_data"
    }
   ],
   "source": [
    "model_predictions = xgb_label_encoder.fit_transform(tuned_perf)\n",
    "t5_y_test_enc = xgb_label_encoder.fit_transform(t5_y_test)\n",
    "\n",
    "predictions_data = pd.DataFrame({\n",
    "    'ra': t5_X_test['ra'],\n",
    "    'dec': t5_X_test['dec'],\n",
    "    'prediction': model_predictions\n",
    "})\n",
    "\n",
    "plt.figure(figsize = (8, 8))\n",
    "\n",
    "# Correctly classified points in blue\n",
    "sns.scatterplot(x = 'ra', y = 'dec', data = predictions_data[predictions_data['prediction'] == 1], color = 'green', alpha = 0.75, label = 'Correct')\n",
    "\n",
    "# False positives (squares)\n",
    "false_positives = predictions_data[(predictions_data['prediction'] == 1) & (t5_y_test_enc == 0)]\n",
    "sns.scatterplot(x = 'ra', y = 'dec', data = false_positives, color = 'blue', marker = 's', s = 50, alpha = 0.75, label = 'False Positives')\n",
    "\n",
    "# False negatives (triangles)\n",
    "false_negatives = predictions_data[(predictions_data['prediction'] == 0) & (t5_y_test_enc == 1)]\n",
    "sns.scatterplot(x = 'ra', y = 'dec', data = false_negatives, color = 'red', marker = '^', s = 50, alpha = 0.75, label = 'False Negatives')\n",
    "\n",
    "plt.xlabel('Right Ascension [degrees]')\n",
    "plt.ylabel('Declination [degrees]')\n",
    "plt.title('Trumpler 5 Region: Right Ascension vs. Declination (Test Set Predictions)')\n",
    "plt.legend()\n",
    "plt.show()"
   ]
  },
  {
   "cell_type": "code",
   "execution_count": 56,
   "metadata": {},
   "outputs": [
    {
     "data": {
      "text/plain": [
       "83"
      ]
     },
     "execution_count": 56,
     "metadata": {},
     "output_type": "execute_result"
    }
   ],
   "source": [
    "len(false_negatives)"
   ]
  },
  {
   "cell_type": "code",
   "execution_count": 57,
   "metadata": {},
   "outputs": [
    {
     "data": {
      "text/plain": [
       "29"
      ]
     },
     "execution_count": 57,
     "metadata": {},
     "output_type": "execute_result"
    }
   ],
   "source": [
    "len(false_positives)"
   ]
  },
  {
   "cell_type": "code",
   "execution_count": 58,
   "metadata": {},
   "outputs": [
    {
     "data": {
      "text/plain": [
       "Index(['ra', 'dec', 'parallax', 'pmra', 'pmdec', 'phot_g_mean_mag'], dtype='object')"
      ]
     },
     "execution_count": 58,
     "metadata": {},
     "output_type": "execute_result"
    }
   ],
   "source": [
    "feature_names"
   ]
  },
  {
   "cell_type": "code",
   "execution_count": 59,
   "metadata": {},
   "outputs": [
    {
     "ename": "NameError",
     "evalue": "name 't5_importances' is not defined",
     "output_type": "error",
     "traceback": [
      "\u001b[1;31m---------------------------------------------------------------------------\u001b[0m",
      "\u001b[1;31mNameError\u001b[0m                                 Traceback (most recent call last)",
      "\u001b[1;32mc:\\Users\\sakil\\OneDrive - Victoria University of Wellington - STUDENT\\2023\\Trimester 2\\DATA 301\\Assignments\\Individual Project\\DATA301_Individual_Project\\Code\\Detailed Analysis.ipynb Cell 84\u001b[0m line \u001b[0;36m1\n\u001b[1;32m----> <a href='vscode-notebook-cell:/c%3A/Users/sakil/OneDrive%20-%20Victoria%20University%20of%20Wellington%20-%20STUDENT/2023/Trimester%202/DATA%20301/Assignments/Individual%20Project/DATA301_Individual_Project/Code/Detailed%20Analysis.ipynb#Y146sZmlsZQ%3D%3D?line=0'>1</a>\u001b[0m t5_importances\n",
      "\u001b[1;31mNameError\u001b[0m: name 't5_importances' is not defined"
     ]
    }
   ],
   "source": [
    "t5_importances"
   ]
  },
  {
   "cell_type": "code",
   "execution_count": null,
   "metadata": {},
   "outputs": [
    {
     "data": {
      "image/png": "[encoded data removed]",
      "text/plain": [
       "<Figure size 1000x600 with 1 Axes>"
      ]
     },
     "metadata": {},
     "output_type": "display_data"
    }
   ],
   "source": [
    "feature_names = t5_X_train.columns  \n",
    "importances = tuned_xgb_model.named_steps['classifier'].feature_importances_\n",
    "sorted_idx = importances.argsort()[::-1]\n",
    "sorted_feature_names = [feature_names[i] for i in sorted_idx]\n",
    "sorted_importances = importances[sorted_idx]\n",
    "\n",
    "plt.figure(figsize=(10, 6))\n",
    "plt.barh(sorted_feature_names, sorted_importances)\n",
    "plt.xlabel('Feature Importance Score')\n",
    "plt.ylabel('Features')\n",
    "plt.title('Trumpler 5 Model: Feature Importances Plot')\n",
    "plt.show()\n"
   ]
  }
 ],
 "metadata": {
  "kernelspec": {
   "display_name": "base",
   "language": "python",
   "name": "python3"
  },
  "language_info": {
   "codemirror_mode": {
    "name": "ipython",
    "version": 3
   },
   "file_extension": ".py",
   "mimetype": "text/x-python",
   "name": "python",
   "nbconvert_exporter": "python",
   "pygments_lexer": "ipython3",
   "version": "3.9.12"
  }
 },
 "nbformat": 4,
 "nbformat_minor": 2
}
