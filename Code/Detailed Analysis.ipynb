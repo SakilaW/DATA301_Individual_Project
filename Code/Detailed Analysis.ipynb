{
 "cells": [
  {
   "cell_type": "markdown",
   "metadata": {},
   "source": [
    "## Detailed Analysis\n",
    "### GAIA Star Cluster Member Classification    \n",
    "#### DATA 301, 2023"
   ]
  },
  {
   "cell_type": "markdown",
   "metadata": {},
   "source": [
    "**Sakila Wanigasinghe [300526406]**"
   ]
  },
  {
   "cell_type": "markdown",
   "metadata": {},
   "source": [
    "***"
   ]
  },
  {
   "cell_type": "code",
   "execution_count": 21,
   "metadata": {},
   "outputs": [],
   "source": [
    "import numpy as np \n",
    "import pandas as pd\n",
    "import matplotlib.pyplot as plt \n",
    "import seaborn as sns\n",
    "from sklearn.impute import SimpleImputer\n",
    "from sklearn.preprocessing import StandardScaler\n",
    "from sklearn.compose import ColumnTransformer\n",
    "from xgboost import XGBClassifier, plot_importance\n",
    "from imblearn.pipeline import Pipeline\n",
    "from imblearn.over_sampling import SMOTE\n",
    "from imblearn.under_sampling import RandomUnderSampler\n",
    "from sklearn.model_selection import train_test_split, RepeatedStratifiedKFold, StratifiedKFold, cross_val_score, GridSearchCV\n",
    "from sklearn.dummy import DummyClassifier\n",
    "from sklearn.metrics import roc_auc_score, roc_curve, auc, precision_recall_curve, precision_score, balanced_accuracy_score, recall_score, f1_score, plot_roc_curve\n",
    "from sklearn.preprocessing import LabelEncoder"
   ]
  },
  {
   "cell_type": "markdown",
   "metadata": {},
   "source": [
    "<br>"
   ]
  },
  {
   "cell_type": "markdown",
   "metadata": {},
   "source": [
    "**Loading in data for star clusters: *NGC 7789*, and *Trumpler 5***"
   ]
  },
  {
   "cell_type": "code",
   "execution_count": 22,
   "metadata": {},
   "outputs": [
    {
     "data": {
      "text/plain": [
       "(3575, 13)"
      ]
     },
     "execution_count": 22,
     "metadata": {},
     "output_type": "execute_result"
    }
   ],
   "source": [
    "## Loading in NGC 7789 star cluster data\n",
    "ngc_7789 = pd.read_csv('../Data/ngc_7789.csv')\n",
    "ngc_7789.shape"
   ]
  },
  {
   "cell_type": "code",
   "execution_count": 23,
   "metadata": {},
   "outputs": [
    {
     "data": {
      "text/html": [
       "<div>\n",
       "<style scoped>\n",
       "    .dataframe tbody tr th:only-of-type {\n",
       "        vertical-align: middle;\n",
       "    }\n",
       "\n",
       "    .dataframe tbody tr th {\n",
       "        vertical-align: top;\n",
       "    }\n",
       "\n",
       "    .dataframe thead th {\n",
       "        text-align: right;\n",
       "    }\n",
       "</style>\n",
       "<table border=\"1\" class=\"dataframe\">\n",
       "  <thead>\n",
       "    <tr style=\"text-align: right;\">\n",
       "      <th></th>\n",
       "      <th>source_id</th>\n",
       "      <th>ra</th>\n",
       "      <th>dec</th>\n",
       "      <th>parallax</th>\n",
       "      <th>pmra</th>\n",
       "      <th>pmdec</th>\n",
       "      <th>phot_g_mean_mag</th>\n",
       "      <th>phot_bp_mean_mag</th>\n",
       "      <th>phot_rp_mean_mag</th>\n",
       "      <th>bp_rp</th>\n",
       "      <th>radial_velocity</th>\n",
       "      <th>teff_gspphot</th>\n",
       "      <th>Cluster</th>\n",
       "    </tr>\n",
       "  </thead>\n",
       "  <tbody>\n",
       "    <tr>\n",
       "      <th>0</th>\n",
       "      <td>420901507912889088</td>\n",
       "      <td>0.082375</td>\n",
       "      <td>56.014056</td>\n",
       "      <td>0.320644</td>\n",
       "      <td>-0.386428</td>\n",
       "      <td>-1.528307</td>\n",
       "      <td>16.820808</td>\n",
       "      <td>17.286600</td>\n",
       "      <td>16.184370</td>\n",
       "      <td>1.102230</td>\n",
       "      <td>NaN</td>\n",
       "      <td>5409.3820</td>\n",
       "      <td>Other</td>\n",
       "    </tr>\n",
       "    <tr>\n",
       "      <th>1</th>\n",
       "      <td>420906936751548288</td>\n",
       "      <td>0.237080</td>\n",
       "      <td>56.055887</td>\n",
       "      <td>0.597838</td>\n",
       "      <td>-1.651632</td>\n",
       "      <td>-2.148538</td>\n",
       "      <td>17.591908</td>\n",
       "      <td>18.355732</td>\n",
       "      <td>16.755722</td>\n",
       "      <td>1.600010</td>\n",
       "      <td>NaN</td>\n",
       "      <td>4343.0300</td>\n",
       "      <td>Other</td>\n",
       "    </tr>\n",
       "    <tr>\n",
       "      <th>2</th>\n",
       "      <td>420907142909967104</td>\n",
       "      <td>0.149607</td>\n",
       "      <td>56.061129</td>\n",
       "      <td>0.211846</td>\n",
       "      <td>-1.312115</td>\n",
       "      <td>-2.421624</td>\n",
       "      <td>15.102909</td>\n",
       "      <td>15.690556</td>\n",
       "      <td>14.344952</td>\n",
       "      <td>1.345604</td>\n",
       "      <td>NaN</td>\n",
       "      <td>5978.2773</td>\n",
       "      <td>Other</td>\n",
       "    </tr>\n",
       "    <tr>\n",
       "      <th>3</th>\n",
       "      <td>420907722722130816</td>\n",
       "      <td>0.003523</td>\n",
       "      <td>56.075048</td>\n",
       "      <td>0.342945</td>\n",
       "      <td>-1.708469</td>\n",
       "      <td>-2.459792</td>\n",
       "      <td>16.090326</td>\n",
       "      <td>16.448742</td>\n",
       "      <td>15.559808</td>\n",
       "      <td>0.888934</td>\n",
       "      <td>NaN</td>\n",
       "      <td>6960.6714</td>\n",
       "      <td>Other</td>\n",
       "    </tr>\n",
       "    <tr>\n",
       "      <th>4</th>\n",
       "      <td>420908414210912512</td>\n",
       "      <td>0.013300</td>\n",
       "      <td>56.152271</td>\n",
       "      <td>0.560820</td>\n",
       "      <td>-1.245880</td>\n",
       "      <td>-2.100259</td>\n",
       "      <td>16.771912</td>\n",
       "      <td>NaN</td>\n",
       "      <td>NaN</td>\n",
       "      <td>NaN</td>\n",
       "      <td>NaN</td>\n",
       "      <td>NaN</td>\n",
       "      <td>Other</td>\n",
       "    </tr>\n",
       "  </tbody>\n",
       "</table>\n",
       "</div>"
      ],
      "text/plain": [
       "            source_id        ra        dec  parallax      pmra     pmdec  \\\n",
       "0  420901507912889088  0.082375  56.014056  0.320644 -0.386428 -1.528307   \n",
       "1  420906936751548288  0.237080  56.055887  0.597838 -1.651632 -2.148538   \n",
       "2  420907142909967104  0.149607  56.061129  0.211846 -1.312115 -2.421624   \n",
       "3  420907722722130816  0.003523  56.075048  0.342945 -1.708469 -2.459792   \n",
       "4  420908414210912512  0.013300  56.152271  0.560820 -1.245880 -2.100259   \n",
       "\n",
       "   phot_g_mean_mag  phot_bp_mean_mag  phot_rp_mean_mag     bp_rp  \\\n",
       "0        16.820808         17.286600         16.184370  1.102230   \n",
       "1        17.591908         18.355732         16.755722  1.600010   \n",
       "2        15.102909         15.690556         14.344952  1.345604   \n",
       "3        16.090326         16.448742         15.559808  0.888934   \n",
       "4        16.771912               NaN               NaN       NaN   \n",
       "\n",
       "   radial_velocity  teff_gspphot Cluster  \n",
       "0              NaN     5409.3820   Other  \n",
       "1              NaN     4343.0300   Other  \n",
       "2              NaN     5978.2773   Other  \n",
       "3              NaN     6960.6714   Other  \n",
       "4              NaN           NaN   Other  "
      ]
     },
     "execution_count": 23,
     "metadata": {},
     "output_type": "execute_result"
    }
   ],
   "source": [
    "ngc_7789.head()"
   ]
  },
  {
   "cell_type": "code",
   "execution_count": 24,
   "metadata": {},
   "outputs": [
    {
     "data": {
      "text/plain": [
       "(3302, 13)"
      ]
     },
     "execution_count": 24,
     "metadata": {},
     "output_type": "execute_result"
    }
   ],
   "source": [
    "## Loading in Trumpler 5 star cluster data\n",
    "trumpler_5 = pd.read_csv('../Data/trumpler_5.csv')\n",
    "trumpler_5.shape"
   ]
  },
  {
   "cell_type": "code",
   "execution_count": 25,
   "metadata": {},
   "outputs": [
    {
     "data": {
      "text/html": [
       "<div>\n",
       "<style scoped>\n",
       "    .dataframe tbody tr th:only-of-type {\n",
       "        vertical-align: middle;\n",
       "    }\n",
       "\n",
       "    .dataframe tbody tr th {\n",
       "        vertical-align: top;\n",
       "    }\n",
       "\n",
       "    .dataframe thead th {\n",
       "        text-align: right;\n",
       "    }\n",
       "</style>\n",
       "<table border=\"1\" class=\"dataframe\">\n",
       "  <thead>\n",
       "    <tr style=\"text-align: right;\">\n",
       "      <th></th>\n",
       "      <th>source_id</th>\n",
       "      <th>ra</th>\n",
       "      <th>dec</th>\n",
       "      <th>parallax</th>\n",
       "      <th>pmra</th>\n",
       "      <th>pmdec</th>\n",
       "      <th>phot_g_mean_mag</th>\n",
       "      <th>phot_bp_mean_mag</th>\n",
       "      <th>phot_rp_mean_mag</th>\n",
       "      <th>bp_rp</th>\n",
       "      <th>radial_velocity</th>\n",
       "      <th>teff_gspphot</th>\n",
       "      <th>Cluster</th>\n",
       "    </tr>\n",
       "  </thead>\n",
       "  <tbody>\n",
       "    <tr>\n",
       "      <th>0</th>\n",
       "      <td>3326188665921045120</td>\n",
       "      <td>99.180263</td>\n",
       "      <td>8.938090</td>\n",
       "      <td>0.117289</td>\n",
       "      <td>-0.767038</td>\n",
       "      <td>0.202383</td>\n",
       "      <td>17.720343</td>\n",
       "      <td>18.314255</td>\n",
       "      <td>16.970951</td>\n",
       "      <td>1.343304</td>\n",
       "      <td>NaN</td>\n",
       "      <td>5201.7600</td>\n",
       "      <td>Other</td>\n",
       "    </tr>\n",
       "    <tr>\n",
       "      <th>1</th>\n",
       "      <td>3326188940798945920</td>\n",
       "      <td>99.123816</td>\n",
       "      <td>8.924983</td>\n",
       "      <td>-0.052569</td>\n",
       "      <td>0.351594</td>\n",
       "      <td>-0.838942</td>\n",
       "      <td>17.792180</td>\n",
       "      <td>18.782574</td>\n",
       "      <td>16.812962</td>\n",
       "      <td>1.969612</td>\n",
       "      <td>NaN</td>\n",
       "      <td>4615.8970</td>\n",
       "      <td>Other</td>\n",
       "    </tr>\n",
       "    <tr>\n",
       "      <th>2</th>\n",
       "      <td>3326189391771063424</td>\n",
       "      <td>99.161032</td>\n",
       "      <td>8.937259</td>\n",
       "      <td>0.354193</td>\n",
       "      <td>-0.229926</td>\n",
       "      <td>-0.055456</td>\n",
       "      <td>16.855852</td>\n",
       "      <td>17.416264</td>\n",
       "      <td>16.147139</td>\n",
       "      <td>1.269125</td>\n",
       "      <td>NaN</td>\n",
       "      <td>5466.8804</td>\n",
       "      <td>Other</td>\n",
       "    </tr>\n",
       "    <tr>\n",
       "      <th>3</th>\n",
       "      <td>3326189421835294080</td>\n",
       "      <td>99.175908</td>\n",
       "      <td>8.955257</td>\n",
       "      <td>0.423364</td>\n",
       "      <td>0.278428</td>\n",
       "      <td>-0.069258</td>\n",
       "      <td>17.581598</td>\n",
       "      <td>18.265062</td>\n",
       "      <td>16.802801</td>\n",
       "      <td>1.462261</td>\n",
       "      <td>NaN</td>\n",
       "      <td>5164.1900</td>\n",
       "      <td>Other</td>\n",
       "    </tr>\n",
       "    <tr>\n",
       "      <th>4</th>\n",
       "      <td>3326189593633986432</td>\n",
       "      <td>99.104969</td>\n",
       "      <td>8.958145</td>\n",
       "      <td>0.333585</td>\n",
       "      <td>-0.597968</td>\n",
       "      <td>-0.295040</td>\n",
       "      <td>17.811178</td>\n",
       "      <td>18.439910</td>\n",
       "      <td>17.031984</td>\n",
       "      <td>1.407927</td>\n",
       "      <td>NaN</td>\n",
       "      <td>4466.0156</td>\n",
       "      <td>Other</td>\n",
       "    </tr>\n",
       "  </tbody>\n",
       "</table>\n",
       "</div>"
      ],
      "text/plain": [
       "             source_id         ra       dec  parallax      pmra     pmdec  \\\n",
       "0  3326188665921045120  99.180263  8.938090  0.117289 -0.767038  0.202383   \n",
       "1  3326188940798945920  99.123816  8.924983 -0.052569  0.351594 -0.838942   \n",
       "2  3326189391771063424  99.161032  8.937259  0.354193 -0.229926 -0.055456   \n",
       "3  3326189421835294080  99.175908  8.955257  0.423364  0.278428 -0.069258   \n",
       "4  3326189593633986432  99.104969  8.958145  0.333585 -0.597968 -0.295040   \n",
       "\n",
       "   phot_g_mean_mag  phot_bp_mean_mag  phot_rp_mean_mag     bp_rp  \\\n",
       "0        17.720343         18.314255         16.970951  1.343304   \n",
       "1        17.792180         18.782574         16.812962  1.969612   \n",
       "2        16.855852         17.416264         16.147139  1.269125   \n",
       "3        17.581598         18.265062         16.802801  1.462261   \n",
       "4        17.811178         18.439910         17.031984  1.407927   \n",
       "\n",
       "   radial_velocity  teff_gspphot Cluster  \n",
       "0              NaN     5201.7600   Other  \n",
       "1              NaN     4615.8970   Other  \n",
       "2              NaN     5466.8804   Other  \n",
       "3              NaN     5164.1900   Other  \n",
       "4              NaN     4466.0156   Other  "
      ]
     },
     "execution_count": 25,
     "metadata": {},
     "output_type": "execute_result"
    }
   ],
   "source": [
    "trumpler_5.head()"
   ]
  },
  {
   "cell_type": "markdown",
   "metadata": {},
   "source": [
    "<br>"
   ]
  },
  {
   "cell_type": "markdown",
   "metadata": {},
   "source": [
    "### NGC 7789 Star Cluster Members Classification"
   ]
  },
  {
   "cell_type": "markdown",
   "metadata": {},
   "source": [
    "**Creating train, validation, and test sets**"
   ]
  },
  {
   "cell_type": "code",
   "execution_count": 26,
   "metadata": {},
   "outputs": [],
   "source": [
    "ngc_7789_filtered = ngc_7789.copy()"
   ]
  },
  {
   "cell_type": "code",
   "execution_count": 27,
   "metadata": {},
   "outputs": [
    {
     "data": {
      "text/plain": [
       "(3311, 11)"
      ]
     },
     "execution_count": 27,
     "metadata": {},
     "output_type": "execute_result"
    }
   ],
   "source": [
    "## Removing redundant column 'source_id' and 'radial_velocity'\n",
    "ngc_7789_filtered = ngc_7789[ngc_7789['ra'] > 350]\n",
    "ngc_7789_filtered = ngc_7789_filtered.drop(['radial_velocity', 'source_id'], axis = 1)\n",
    "ngc_7789_filtered.shape"
   ]
  },
  {
   "cell_type": "code",
   "execution_count": 28,
   "metadata": {},
   "outputs": [
    {
     "data": {
      "text/html": [
       "<div>\n",
       "<style scoped>\n",
       "    .dataframe tbody tr th:only-of-type {\n",
       "        vertical-align: middle;\n",
       "    }\n",
       "\n",
       "    .dataframe tbody tr th {\n",
       "        vertical-align: top;\n",
       "    }\n",
       "\n",
       "    .dataframe thead th {\n",
       "        text-align: right;\n",
       "    }\n",
       "</style>\n",
       "<table border=\"1\" class=\"dataframe\">\n",
       "  <thead>\n",
       "    <tr style=\"text-align: right;\">\n",
       "      <th></th>\n",
       "      <th>ra</th>\n",
       "      <th>dec</th>\n",
       "      <th>parallax</th>\n",
       "      <th>pmra</th>\n",
       "      <th>pmdec</th>\n",
       "      <th>phot_g_mean_mag</th>\n",
       "      <th>phot_bp_mean_mag</th>\n",
       "      <th>phot_rp_mean_mag</th>\n",
       "      <th>bp_rp</th>\n",
       "      <th>teff_gspphot</th>\n",
       "      <th>Cluster</th>\n",
       "    </tr>\n",
       "  </thead>\n",
       "  <tbody>\n",
       "    <tr>\n",
       "      <th>264</th>\n",
       "      <td>359.973766</td>\n",
       "      <td>55.980510</td>\n",
       "      <td>0.345684</td>\n",
       "      <td>-1.264863</td>\n",
       "      <td>-2.185392</td>\n",
       "      <td>17.272950</td>\n",
       "      <td>17.700705</td>\n",
       "      <td>16.653336</td>\n",
       "      <td>1.047369</td>\n",
       "      <td>5222.2837</td>\n",
       "      <td>Other</td>\n",
       "    </tr>\n",
       "    <tr>\n",
       "      <th>265</th>\n",
       "      <td>359.800712</td>\n",
       "      <td>55.948081</td>\n",
       "      <td>0.476470</td>\n",
       "      <td>-0.785729</td>\n",
       "      <td>-1.906318</td>\n",
       "      <td>17.525180</td>\n",
       "      <td>18.180155</td>\n",
       "      <td>16.755987</td>\n",
       "      <td>1.424168</td>\n",
       "      <td>4296.6250</td>\n",
       "      <td>NGC_7789</td>\n",
       "    </tr>\n",
       "    <tr>\n",
       "      <th>266</th>\n",
       "      <td>359.931384</td>\n",
       "      <td>56.017455</td>\n",
       "      <td>0.454876</td>\n",
       "      <td>-1.166511</td>\n",
       "      <td>-1.637231</td>\n",
       "      <td>17.030367</td>\n",
       "      <td>17.451424</td>\n",
       "      <td>16.395910</td>\n",
       "      <td>1.055513</td>\n",
       "      <td>5608.1465</td>\n",
       "      <td>Other</td>\n",
       "    </tr>\n",
       "    <tr>\n",
       "      <th>267</th>\n",
       "      <td>359.458759</td>\n",
       "      <td>55.896147</td>\n",
       "      <td>0.480959</td>\n",
       "      <td>-1.395051</td>\n",
       "      <td>-1.462129</td>\n",
       "      <td>17.948677</td>\n",
       "      <td>18.468685</td>\n",
       "      <td>17.260397</td>\n",
       "      <td>1.208288</td>\n",
       "      <td>4736.8400</td>\n",
       "      <td>Other</td>\n",
       "    </tr>\n",
       "    <tr>\n",
       "      <th>268</th>\n",
       "      <td>359.498434</td>\n",
       "      <td>55.904656</td>\n",
       "      <td>0.258754</td>\n",
       "      <td>-0.458683</td>\n",
       "      <td>-2.072979</td>\n",
       "      <td>17.734300</td>\n",
       "      <td>18.214066</td>\n",
       "      <td>17.100204</td>\n",
       "      <td>1.113861</td>\n",
       "      <td>4929.7090</td>\n",
       "      <td>Other</td>\n",
       "    </tr>\n",
       "  </tbody>\n",
       "</table>\n",
       "</div>"
      ],
      "text/plain": [
       "             ra        dec  parallax      pmra     pmdec  phot_g_mean_mag  \\\n",
       "264  359.973766  55.980510  0.345684 -1.264863 -2.185392        17.272950   \n",
       "265  359.800712  55.948081  0.476470 -0.785729 -1.906318        17.525180   \n",
       "266  359.931384  56.017455  0.454876 -1.166511 -1.637231        17.030367   \n",
       "267  359.458759  55.896147  0.480959 -1.395051 -1.462129        17.948677   \n",
       "268  359.498434  55.904656  0.258754 -0.458683 -2.072979        17.734300   \n",
       "\n",
       "     phot_bp_mean_mag  phot_rp_mean_mag     bp_rp  teff_gspphot   Cluster  \n",
       "264         17.700705         16.653336  1.047369     5222.2837     Other  \n",
       "265         18.180155         16.755987  1.424168     4296.6250  NGC_7789  \n",
       "266         17.451424         16.395910  1.055513     5608.1465     Other  \n",
       "267         18.468685         17.260397  1.208288     4736.8400     Other  \n",
       "268         18.214066         17.100204  1.113861     4929.7090     Other  "
      ]
     },
     "execution_count": 28,
     "metadata": {},
     "output_type": "execute_result"
    }
   ],
   "source": [
    "ngc_7789_filtered.head()"
   ]
  },
  {
   "cell_type": "code",
   "execution_count": 29,
   "metadata": {},
   "outputs": [
    {
     "name": "stdout",
     "output_type": "stream",
     "text": [
      "(2648, 11) (663, 11)\n"
     ]
    }
   ],
   "source": [
    "## Creating train and test sets\n",
    "ngc_train_val, ngc_test = train_test_split(ngc_7789_filtered, test_size = 0.20, random_state = 309)\n",
    "print(ngc_train_val.shape, ngc_test.shape)"
   ]
  },
  {
   "cell_type": "code",
   "execution_count": 30,
   "metadata": {},
   "outputs": [
    {
     "name": "stdout",
     "output_type": "stream",
     "text": [
      "(2250, 11) (398, 11)\n"
     ]
    }
   ],
   "source": [
    "## Creating validation set from training set\n",
    "ngc_train, ngc_val = train_test_split(ngc_train_val, test_size = 0.15, random_state = 309)\n",
    "print(ngc_train.shape, ngc_val.shape)"
   ]
  },
  {
   "cell_type": "code",
   "execution_count": 31,
   "metadata": {},
   "outputs": [
    {
     "name": "stdout",
     "output_type": "stream",
     "text": [
      "(2250, 10) (2250,) (398, 10) (398,) (663, 10) (663,)\n"
     ]
    }
   ],
   "source": [
    "## Splitting train, test, and validation sets into corresponding X and y\n",
    "target = 'Cluster'\n",
    "ngc_X_train = ngc_train.drop(target, axis = 1) \n",
    "ngc_y_train = ngc_train[target].copy() \n",
    "\n",
    "ngc_X_val = ngc_val.drop(target, axis = 1) \n",
    "ngc_y_val = ngc_val[target].copy() \n",
    "\n",
    "ngc_X_test = ngc_test.drop(target, axis = 1) \n",
    "ngc_y_test = ngc_test[target].copy() \n",
    "\n",
    "print(ngc_X_train.shape, ngc_y_train.shape, ngc_X_val.shape, ngc_y_val.shape, ngc_X_test.shape, ngc_y_test.shape)"
   ]
  },
  {
   "cell_type": "markdown",
   "metadata": {},
   "source": [
    "**Model Fitting and Preprocessing Function (Pipeline)**"
   ]
  },
  {
   "cell_type": "code",
   "execution_count": 32,
   "metadata": {},
   "outputs": [],
   "source": [
    "def ngc_xgb_transform(X, y):\n",
    "    '''XGBoost preprocessing and model fitting custom function for NGC 7789 data'''\n",
    "    \n",
    "    numerical_columns = [\"ra\", \"dec\", \"parallax\", \"pmra\", \"pmdec\", \"phot_g_mean_mag\", \"phot_bp_mean_mag\", \"phot_rp_mean_mag\", \"bp_rp\", \"teff_gspphot\"]\n",
    "\n",
    "    numerical_preprocessor = Pipeline([('scaler', StandardScaler()),\n",
    "                                       ('imputer', SimpleImputer(strategy = 'median'))])\n",
    "\n",
    "    preprocessor = ColumnTransformer([\n",
    "        ('scaler-and-imputer', numerical_preprocessor, numerical_columns),\n",
    "    ])\n",
    "\n",
    "    xgb_label_encoder = LabelEncoder()\n",
    "    y = xgb_label_encoder.fit_transform(y)\n",
    "\n",
    "    xgb_pipeline = Pipeline([\n",
    "        ('preprocessor', preprocessor),\n",
    "        ('classifier', XGBClassifier(objective = 'binary:logistic', random_state = 309))\n",
    "    ])\n",
    "\n",
    "    model = xgb_pipeline.fit(X, y)\n",
    "\n",
    "    return(model, xgb_label_encoder)"
   ]
  },
  {
   "cell_type": "markdown",
   "metadata": {},
   "source": [
    "**Model Evaluation Function**"
   ]
  },
  {
   "cell_type": "code",
   "execution_count": 33,
   "metadata": {},
   "outputs": [],
   "source": [
    "## Defining custom function to evaluate model performance\n",
    "def model_performance(model, X, y, label_enc):\n",
    "    '''Generates performance metrics for the model, also can produce graphs of the model performance'''\n",
    "\n",
    "    y_predicted = model.predict(X)\n",
    "\n",
    "    y = label_enc.transform(y)\n",
    "    y_predicted = model.predict(X) \n",
    "    y_predicted = label_enc.inverse_transform(y_predicted)\n",
    "    \n",
    "    cv = RepeatedStratifiedKFold(n_splits = 5, n_repeats = 1, random_state = 309)\n",
    "    \n",
    "    scores_RA = cross_val_score(model, X, y, cv = cv, scoring = \"roc_auc\")\n",
    "    scores_BA = cross_val_score(model, X, y, cv = cv, scoring = \"balanced_accuracy\")    \n",
    "        \n",
    "    print(f\"AUC-ROC: {scores_RA.mean():.4f} +/- {scores_RA.std():.4f}\")\n",
    "    print(f\"Balanced accuracy score: {scores_BA.mean():.4f} +/- {scores_BA.std():.4f}\")"
   ]
  },
  {
   "cell_type": "markdown",
   "metadata": {},
   "source": [
    "**XGBoost model training and evaluation**"
   ]
  },
  {
   "cell_type": "code",
   "execution_count": 34,
   "metadata": {},
   "outputs": [
    {
     "name": "stdout",
     "output_type": "stream",
     "text": [
      "AUC-ROC: 0.9001 +/- 0.0109\n",
      "Balanced accuracy score: 0.8153 +/- 0.0214\n"
     ]
    }
   ],
   "source": [
    "## Performance of model on training data\n",
    "ngc_xgb_model = ngc_xgb_transform(ngc_X_train, ngc_y_train)\n",
    "model_performance(ngc_xgb_model[0], ngc_X_train, ngc_y_train, label_enc = ngc_xgb_model[1])"
   ]
  },
  {
   "cell_type": "code",
   "execution_count": 35,
   "metadata": {},
   "outputs": [
    {
     "name": "stdout",
     "output_type": "stream",
     "text": [
      "AUC-ROC: 0.8903 +/- 0.0491\n",
      "Balanced accuracy score: 0.8125 +/- 0.0750\n"
     ]
    }
   ],
   "source": [
    "## Performance of model on validation data\n",
    "ngc_xgb_model = ngc_xgb_transform(ngc_X_val, ngc_y_val)\n",
    "model_performance(ngc_xgb_model[0], ngc_X_val, ngc_y_val, label_enc = ngc_xgb_model[1])"
   ]
  },
  {
   "cell_type": "code",
   "execution_count": 39,
   "metadata": {},
   "outputs": [],
   "source": [
    "## Fitting model, removing correlated features\n",
    "def ngc_xgb_transform_2(X, y):\n",
    "    '''XGBoost preprocessing and model fitting custom function for NGC 7789 data'''\n",
    "    \n",
    "    numerical_columns = [\"ra\", \"dec\", \"parallax\", \"pmra\", \"pmdec\", \"phot_g_mean_mag\"]\n",
    "\n",
    "    numerical_preprocessor = Pipeline([('scaler', StandardScaler()),\n",
    "                                       ('imputer', SimpleImputer(strategy = 'median'))])\n",
    "\n",
    "    preprocessor = ColumnTransformer([\n",
    "        ('scaler-and-imputer', numerical_preprocessor, numerical_columns),\n",
    "    ])\n",
    "\n",
    "    xgb_label_encoder = LabelEncoder()\n",
    "    y = xgb_label_encoder.fit_transform(y)\n",
    "\n",
    "    xgb_pipeline = Pipeline([\n",
    "        ('preprocessor', preprocessor),\n",
    "        ('classifier', XGBClassifier(objective = 'binary:logistic', random_state = 309))\n",
    "    ])\n",
    "\n",
    "    model = xgb_pipeline.fit(X, y)\n",
    "\n",
    "    return(model, xgb_label_encoder)"
   ]
  },
  {
   "cell_type": "code",
   "execution_count": 37,
   "metadata": {},
   "outputs": [],
   "source": [
    "ngc_X_train = ngc_X_train.drop([\"phot_bp_mean_mag\", \"phot_rp_mean_mag\", \"bp_rp\", \"teff_gspphot\"], axis = 1)\n",
    "ngc_X_val = ngc_X_val.drop([\"phot_bp_mean_mag\", \"phot_rp_mean_mag\", \"bp_rp\", \"teff_gspphot\"], axis = 1)"
   ]
  },
  {
   "cell_type": "code",
   "execution_count": 40,
   "metadata": {},
   "outputs": [
    {
     "name": "stdout",
     "output_type": "stream",
     "text": [
      "AUC-ROC: 0.8966 +/- 0.0075\n",
      "Balanced accuracy score: 0.8120 +/- 0.0194\n"
     ]
    }
   ],
   "source": [
    "## Performance of model on training data\n",
    "ngc_xgb_model = ngc_xgb_transform_2(ngc_X_train, ngc_y_train)\n",
    "model_performance(ngc_xgb_model[0], ngc_X_train, ngc_y_train, label_enc = ngc_xgb_model[1])"
   ]
  },
  {
   "cell_type": "code",
   "execution_count": 41,
   "metadata": {},
   "outputs": [
    {
     "name": "stdout",
     "output_type": "stream",
     "text": [
      "AUC-ROC: 0.8936 +/- 0.0550\n",
      "Balanced accuracy score: 0.8206 +/- 0.0692\n"
     ]
    }
   ],
   "source": [
    "## Performance of model on validation data\n",
    "ngc_xgb_model = ngc_xgb_transform_2(ngc_X_val, ngc_y_val)\n",
    "model_performance(ngc_xgb_model[0], ngc_X_val, ngc_y_val, label_enc = ngc_xgb_model[1])"
   ]
  },
  {
   "cell_type": "markdown",
   "metadata": {},
   "source": [
    "<br>"
   ]
  },
  {
   "cell_type": "markdown",
   "metadata": {},
   "source": [
    "***"
   ]
  },
  {
   "cell_type": "markdown",
   "metadata": {},
   "source": [
    "### Trumpler 5 Star Cluster Members Classification"
   ]
  },
  {
   "cell_type": "code",
   "execution_count": 13,
   "metadata": {},
   "outputs": [],
   "source": [
    "def xgb_transform_trumpler5(X, y, synthetic_sampling = True):\n",
    "    '''XGBoost preprocessing and model fitting custom function'''\n",
    "    \n",
    "    numerical_columns = [\"ra\", \"dec\", \"parallax\", \"pmra\", \"pmdec\", \"phot_g_mean_mag\", \"phot_bp_mean_mag\", \"phot_rp_mean_mag\", \"bp_rp\", \"teff_gspphot\"]\n",
    "\n",
    "    numerical_preprocessor = Pipeline([('scaler', StandardScaler()),\n",
    "                                       ('imputer', SimpleImputer(strategy = 'median'))])\n",
    "\n",
    "    preprocessor = ColumnTransformer([\n",
    "        ('scaler-and-imputer', numerical_preprocessor, numerical_columns),\n",
    "    ])\n",
    "\n",
    "    xgb_label_encoder = LabelEncoder()\n",
    "    y = xgb_label_encoder.fit_transform(y)\n",
    "\n",
    "\n",
    "    if synthetic_sampling == True:\n",
    "        xgb_pipeline = Pipeline([\n",
    "            ('preprocessor', preprocessor),\n",
    "            (\"over\", SMOTE(sampling_strategy = 0.80, random_state = 309)),\n",
    "            (\"under\", RandomUnderSampler(sampling_strategy = 1.0, random_state = 309)),\n",
    "            ('classifier', XGBClassifier(objective = 'binary:logistic', random_state = 309))\n",
    "        ])\n",
    "\n",
    "    else:\n",
    "        xgb_pipeline = Pipeline([\n",
    "            ('preprocessor', preprocessor),\n",
    "            ('classifier', XGBClassifier(objective = 'binary:logistic', random_state = 309))\n",
    "        ])\n",
    "\n",
    "    model = xgb_pipeline.fit(X, y)\n",
    "\n",
    "    return(model, xgb_label_encoder)"
   ]
  }
 ],
 "metadata": {
  "kernelspec": {
   "display_name": "base",
   "language": "python",
   "name": "python3"
  },
  "language_info": {
   "codemirror_mode": {
    "name": "ipython",
    "version": 3
   },
   "file_extension": ".py",
   "mimetype": "text/x-python",
   "name": "python",
   "nbconvert_exporter": "python",
   "pygments_lexer": "ipython3",
   "version": "3.9.12"
  }
 },
 "nbformat": 4,
 "nbformat_minor": 2
}
